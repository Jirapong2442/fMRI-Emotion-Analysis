{
 "cells": [
  {
   "cell_type": "markdown",
   "id": "6411238d",
   "metadata": {},
   "source": [
    "# Compare sentence embedding result of VADER, TextBlob, and RoberTa on MELD dataset"
   ]
  },
  {
   "cell_type": "code",
   "execution_count": 1,
   "id": "18b11b02",
   "metadata": {},
   "outputs": [
    {
     "name": "stderr",
     "output_type": "stream",
     "text": [
      "c:\\Users\\NA\\.conda\\envs\\eeg_study\\Lib\\site-packages\\tqdm\\auto.py:21: TqdmWarning: IProgress not found. Please update jupyter and ipywidgets. See https://ipywidgets.readthedocs.io/en/stable/user_install.html\n",
      "  from .autonotebook import tqdm as notebook_tqdm\n",
      "Some weights of the model checkpoint at cardiffnlp/twitter-roberta-base-sentiment-latest were not used when initializing RobertaForSequenceClassification: ['roberta.pooler.dense.bias', 'roberta.pooler.dense.weight']\n",
      "- This IS expected if you are initializing RobertaForSequenceClassification from the checkpoint of a model trained on another task or with another architecture (e.g. initializing a BertForSequenceClassification model from a BertForPreTraining model).\n",
      "- This IS NOT expected if you are initializing RobertaForSequenceClassification from the checkpoint of a model that you expect to be exactly identical (initializing a BertForSequenceClassification model from a BertForSequenceClassification model).\n"
     ]
    }
   ],
   "source": [
    "import vaderSentiment\n",
    "import textblob\n",
    "from transformers import AutoModelForSequenceClassification\n",
    "from transformers import TFAutoModelForSequenceClassification\n",
    "from transformers import AutoTokenizer, AutoConfig, AutoModel\n",
    "from scipy.special import softmax\n",
    "import pandas as pd\n",
    "#load model\n",
    "MODEL = f\"cardiffnlp/twitter-roberta-base-sentiment-latest\"\n",
    "tokenizer = AutoTokenizer.from_pretrained(MODEL)\n",
    "config = AutoConfig.from_pretrained(MODEL)\n",
    "model_sentiment = AutoModelForSequenceClassification.from_pretrained(MODEL)"
   ]
  },
  {
   "cell_type": "code",
   "execution_count": 4,
   "id": "468207cc",
   "metadata": {},
   "outputs": [
    {
     "data": {
      "application/vnd.microsoft.datawrangler.viewer.v0+json": {
       "columns": [
        {
         "name": "index",
         "rawType": "int64",
         "type": "integer"
        },
        {
         "name": "Sentiment",
         "rawType": "int64",
         "type": "integer"
        }
       ],
       "ref": "6d2f9322-c471-4b38-bd42-1af08f348ea3",
       "rows": [
        [
         "0",
         "0"
        ],
        [
         "1",
         "0"
        ],
        [
         "2",
         "0"
        ],
        [
         "3",
         "0"
        ],
        [
         "4",
         "1"
        ],
        [
         "5",
         "0"
        ],
        [
         "6",
         "0"
        ],
        [
         "7",
         "0"
        ],
        [
         "8",
         "0"
        ],
        [
         "9",
         "0"
        ],
        [
         "10",
         "-1"
        ],
        [
         "11",
         "0"
        ],
        [
         "12",
         "1"
        ],
        [
         "13",
         "0"
        ],
        [
         "14",
         "-1"
        ],
        [
         "15",
         "-1"
        ],
        [
         "16",
         "-1"
        ],
        [
         "17",
         "-1"
        ],
        [
         "18",
         "0"
        ],
        [
         "19",
         "0"
        ],
        [
         "20",
         "0"
        ],
        [
         "21",
         "0"
        ],
        [
         "22",
         "0"
        ],
        [
         "23",
         "1"
        ],
        [
         "24",
         "-1"
        ],
        [
         "25",
         "-1"
        ],
        [
         "26",
         "0"
        ],
        [
         "27",
         "-1"
        ],
        [
         "28",
         "-1"
        ],
        [
         "29",
         "0"
        ],
        [
         "30",
         "0"
        ],
        [
         "31",
         "1"
        ],
        [
         "32",
         "0"
        ],
        [
         "33",
         "1"
        ],
        [
         "34",
         "-1"
        ],
        [
         "35",
         "-1"
        ],
        [
         "36",
         "-1"
        ],
        [
         "37",
         "0"
        ],
        [
         "38",
         "0"
        ],
        [
         "39",
         "0"
        ],
        [
         "40",
         "-1"
        ],
        [
         "41",
         "-1"
        ],
        [
         "42",
         "0"
        ],
        [
         "43",
         "1"
        ],
        [
         "44",
         "1"
        ],
        [
         "45",
         "1"
        ],
        [
         "46",
         "0"
        ],
        [
         "47",
         "0"
        ],
        [
         "48",
         "0"
        ],
        [
         "49",
         "0"
        ]
       ],
       "shape": {
        "columns": 1,
        "rows": 9989
       }
      },
      "text/plain": [
       "0       0\n",
       "1       0\n",
       "2       0\n",
       "3       0\n",
       "4       1\n",
       "       ..\n",
       "9984    0\n",
       "9985    0\n",
       "9986    1\n",
       "9987    0\n",
       "9988    1\n",
       "Name: Sentiment, Length: 9989, dtype: int64"
      ]
     },
     "execution_count": 4,
     "metadata": {},
     "output_type": "execute_result"
    }
   ],
   "source": [
    "\n",
    "train = pd.read_csv(\"C:/Users/NA/Saved Games/dataset/MELD.Raw/MELD.Raw/train/train_sent_emo.csv\")\n",
    "X_raw = train['Utterance']\n",
    "y_raw = train['Sentiment']\n",
    "y_raw = y_raw.map({'neutral': 0, 'negative': -1, 'positive': 1})\n",
    "y_raw\n"
   ]
  },
  {
   "cell_type": "code",
   "execution_count": 6,
   "id": "a10bb41e",
   "metadata": {},
   "outputs": [
    {
     "data": {
      "text/plain": [
       "pandas.core.series.Series"
      ]
     },
     "execution_count": 6,
     "metadata": {},
     "output_type": "execute_result"
    }
   ],
   "source": [
    "type(X_raw)"
   ]
  },
  {
   "cell_type": "markdown",
   "id": "d2e1dbbb",
   "metadata": {},
   "source": [
    "# roberta classify text"
   ]
  },
  {
   "cell_type": "code",
   "execution_count": 7,
   "id": "b640c413",
   "metadata": {},
   "outputs": [],
   "source": [
    "all_scores = []\n",
    "input_vector = []\n",
    "for sentence in X_raw:\n",
    "    encoded_input = tokenizer(sentence, return_tensors='pt')\n",
    "    output = model_sentiment(**encoded_input)\n",
    "    scores = output[0][0].detach().numpy()\n",
    "    scores = softmax(scores)\n",
    "    all_scores.append(scores)"
   ]
  },
  {
   "cell_type": "code",
   "execution_count": 8,
   "id": "581e8f6f",
   "metadata": {},
   "outputs": [],
   "source": [
    "# select the most dominat probability and make new column for class\n",
    "score_roberta = pd.DataFrame(all_scores, columns=['negative', 'neutral', 'positive'])\n",
    "score_roberta['label'] = score_roberta.apply(lambda x: x.idxmax(), axis=1)\n",
    "score_roberta['label'] = score_roberta['label'].map({'neutral': 0, 'negative': -1, 'positive': 1})\n",
    "#score_roberta['label'].to_csv(\"score_roberta.csv\")"
   ]
  },
  {
   "cell_type": "code",
   "execution_count": 14,
   "id": "6a2ffca3",
   "metadata": {},
   "outputs": [
    {
     "data": {
      "application/vnd.microsoft.datawrangler.viewer.v0+json": {
       "columns": [
        {
         "name": "index",
         "rawType": "int64",
         "type": "integer"
        },
        {
         "name": "label",
         "rawType": "int64",
         "type": "integer"
        }
       ],
       "ref": "c6f6251e-e507-4295-bb2d-73f22c5eb79a",
       "rows": [
        [
         "0",
         "0"
        ],
        [
         "1",
         "0"
        ],
        [
         "2",
         "0"
        ],
        [
         "3",
         "0"
        ],
        [
         "4",
         "0"
        ],
        [
         "5",
         "0"
        ],
        [
         "6",
         "0"
        ],
        [
         "7",
         "0"
        ],
        [
         "8",
         "1"
        ],
        [
         "9",
         "0"
        ],
        [
         "10",
         "-1"
        ],
        [
         "11",
         "1"
        ],
        [
         "12",
         "0"
        ],
        [
         "13",
         "1"
        ],
        [
         "14",
         "0"
        ],
        [
         "15",
         "0"
        ],
        [
         "16",
         "-1"
        ],
        [
         "17",
         "-1"
        ],
        [
         "18",
         "1"
        ],
        [
         "19",
         "0"
        ],
        [
         "20",
         "1"
        ],
        [
         "21",
         "0"
        ],
        [
         "22",
         "-1"
        ],
        [
         "23",
         "0"
        ],
        [
         "24",
         "0"
        ],
        [
         "25",
         "0"
        ],
        [
         "26",
         "0"
        ],
        [
         "27",
         "0"
        ],
        [
         "28",
         "0"
        ],
        [
         "29",
         "0"
        ],
        [
         "30",
         "0"
        ],
        [
         "31",
         "1"
        ],
        [
         "32",
         "0"
        ],
        [
         "33",
         "1"
        ],
        [
         "34",
         "-1"
        ],
        [
         "35",
         "0"
        ],
        [
         "36",
         "0"
        ],
        [
         "37",
         "0"
        ],
        [
         "38",
         "-1"
        ],
        [
         "39",
         "0"
        ],
        [
         "40",
         "-1"
        ],
        [
         "41",
         "1"
        ],
        [
         "42",
         "0"
        ],
        [
         "43",
         "1"
        ],
        [
         "44",
         "1"
        ],
        [
         "45",
         "0"
        ],
        [
         "46",
         "0"
        ],
        [
         "47",
         "0"
        ],
        [
         "48",
         "0"
        ],
        [
         "49",
         "0"
        ]
       ],
       "shape": {
        "columns": 1,
        "rows": 9989
       }
      },
      "text/plain": [
       "0       0\n",
       "1       0\n",
       "2       0\n",
       "3       0\n",
       "4       0\n",
       "       ..\n",
       "9984    0\n",
       "9985    0\n",
       "9986   -1\n",
       "9987    0\n",
       "9988    1\n",
       "Name: label, Length: 9989, dtype: int64"
      ]
     },
     "execution_count": 14,
     "metadata": {},
     "output_type": "execute_result"
    }
   ],
   "source": [
    "score_roberta['label']"
   ]
  },
  {
   "cell_type": "markdown",
   "id": "1a1f42f0",
   "metadata": {},
   "source": [
    "# Vader classify text"
   ]
  },
  {
   "cell_type": "code",
   "execution_count": 9,
   "id": "3b8928ab",
   "metadata": {},
   "outputs": [],
   "source": [
    "from vaderSentiment.vaderSentiment import SentimentIntensityAnalyzer\n",
    "analyzer = SentimentIntensityAnalyzer()\n",
    "sentiment = []\n",
    "for sentence in X_raw:\n",
    "    vs = analyzer.polarity_scores(sentence)\n",
    "    sentiment.append(vs)\n",
    "\n",
    "score_vader = pd.DataFrame(sentiment)\n",
    "score_vader['3class_vad'] = score_vader['compound'].apply(lambda x: 1 if x >= 0.05 else (-1 if x <= -0.05 else 0))"
   ]
  },
  {
   "cell_type": "code",
   "execution_count": 13,
   "id": "98c856b0",
   "metadata": {},
   "outputs": [
    {
     "data": {
      "application/vnd.microsoft.datawrangler.viewer.v0+json": {
       "columns": [
        {
         "name": "index",
         "rawType": "int64",
         "type": "integer"
        },
        {
         "name": "3class_vad",
         "rawType": "int64",
         "type": "integer"
        }
       ],
       "ref": "426a5bb9-37d8-44a4-94e1-ccd0416046c7",
       "rows": [
        [
         "0",
         "0"
        ],
        [
         "1",
         "0"
        ],
        [
         "2",
         "0"
        ],
        [
         "3",
         "0"
        ],
        [
         "4",
         "0"
        ],
        [
         "5",
         "0"
        ],
        [
         "6",
         "0"
        ],
        [
         "7",
         "-1"
        ],
        [
         "8",
         "1"
        ],
        [
         "9",
         "0"
        ],
        [
         "10",
         "-1"
        ],
        [
         "11",
         "1"
        ],
        [
         "12",
         "0"
        ],
        [
         "13",
         "1"
        ],
        [
         "14",
         "0"
        ],
        [
         "15",
         "-1"
        ],
        [
         "16",
         "0"
        ],
        [
         "17",
         "0"
        ],
        [
         "18",
         "0"
        ],
        [
         "19",
         "1"
        ],
        [
         "20",
         "1"
        ],
        [
         "21",
         "0"
        ],
        [
         "22",
         "-1"
        ],
        [
         "23",
         "0"
        ],
        [
         "24",
         "0"
        ],
        [
         "25",
         "-1"
        ],
        [
         "26",
         "1"
        ],
        [
         "27",
         "0"
        ],
        [
         "28",
         "0"
        ],
        [
         "29",
         "0"
        ],
        [
         "30",
         "0"
        ],
        [
         "31",
         "0"
        ],
        [
         "32",
         "0"
        ],
        [
         "33",
         "1"
        ],
        [
         "34",
         "1"
        ],
        [
         "35",
         "0"
        ],
        [
         "36",
         "0"
        ],
        [
         "37",
         "0"
        ],
        [
         "38",
         "-1"
        ],
        [
         "39",
         "-1"
        ],
        [
         "40",
         "-1"
        ],
        [
         "41",
         "1"
        ],
        [
         "42",
         "0"
        ],
        [
         "43",
         "0"
        ],
        [
         "44",
         "0"
        ],
        [
         "45",
         "0"
        ],
        [
         "46",
         "0"
        ],
        [
         "47",
         "0"
        ],
        [
         "48",
         "0"
        ],
        [
         "49",
         "0"
        ]
       ],
       "shape": {
        "columns": 1,
        "rows": 9989
       }
      },
      "text/plain": [
       "0       0\n",
       "1       0\n",
       "2       0\n",
       "3       0\n",
       "4       0\n",
       "       ..\n",
       "9984    0\n",
       "9985    0\n",
       "9986    0\n",
       "9987    1\n",
       "9988    1\n",
       "Name: 3class_vad, Length: 9989, dtype: int64"
      ]
     },
     "execution_count": 13,
     "metadata": {},
     "output_type": "execute_result"
    }
   ],
   "source": [
    "score_vader['3class_vad']"
   ]
  },
  {
   "cell_type": "markdown",
   "id": "73685684",
   "metadata": {},
   "source": [
    "# textblob classify text"
   ]
  },
  {
   "cell_type": "code",
   "execution_count": 10,
   "id": "1377e699",
   "metadata": {},
   "outputs": [],
   "source": [
    "from textblob import TextBlob\n",
    "from textblob.sentiments import NaiveBayesAnalyzer\n",
    "sentiment_tb = []\n",
    "sentiment_textblob = pd.DataFrame()\n",
    "for sentence in X_raw:\n",
    "    object_ = TextBlob(sentence)\n",
    "    sentiment_tb.append(object_.sentiment.polarity)\n",
    "sentiment_textblob['compond'] = pd.DataFrame(sentiment_tb)\n",
    "\n",
    "sentiment_textblob['3class_tb'] = sentiment_textblob['compond'].apply(lambda x: 1 if x >= 0.05 else (-1 if x <= -0.05 else 0))"
   ]
  },
  {
   "cell_type": "code",
   "execution_count": 16,
   "id": "6a66cf7d",
   "metadata": {},
   "outputs": [
    {
     "data": {
      "text/plain": [
       "(0       0\n",
       " 1       1\n",
       " 2       0\n",
       " 3      -1\n",
       " 4       1\n",
       "        ..\n",
       " 9984    0\n",
       " 9985    0\n",
       " 9986    1\n",
       " 9987    0\n",
       " 9988    1\n",
       " Name: 3class_tb, Length: 9989, dtype: int64,\n",
       " 0       0\n",
       " 1       0\n",
       " 2       0\n",
       " 3       0\n",
       " 4       0\n",
       "        ..\n",
       " 9984    0\n",
       " 9985    0\n",
       " 9986    0\n",
       " 9987    1\n",
       " 9988    1\n",
       " Name: 3class_vad, Length: 9989, dtype: int64,\n",
       " 0       0\n",
       " 1       0\n",
       " 2       0\n",
       " 3       0\n",
       " 4       0\n",
       "        ..\n",
       " 9984    0\n",
       " 9985    0\n",
       " 9986   -1\n",
       " 9987    0\n",
       " 9988    1\n",
       " Name: label, Length: 9989, dtype: int64)"
      ]
     },
     "execution_count": 16,
     "metadata": {},
     "output_type": "execute_result"
    }
   ],
   "source": [
    "sentiment_textblob['3class_tb'], score_vader['3class_vad'], score_roberta['label']"
   ]
  },
  {
   "cell_type": "markdown",
   "id": "74b24929",
   "metadata": {},
   "source": [
    "# Performance evaluation"
   ]
  },
  {
   "cell_type": "markdown",
   "id": "4eb64e89",
   "metadata": {},
   "source": [
    "## function"
   ]
  },
  {
   "cell_type": "code",
   "execution_count": 11,
   "id": "a3c11e85",
   "metadata": {},
   "outputs": [],
   "source": [
    "import numpy as np\n",
    "import pandas as pd\n",
    "\n",
    "def build_confusion_matrix(y_true, y_pred, labels=None, display=True):\n",
    "    \"\"\"\n",
    "    Build confusion matrix (counts) for given labels.\n",
    "    y_true, y_pred: 1D iterables (lists or numpy arrays) of same length.\n",
    "    labels: optional list/array specifying class order (e.g. [-1.0, 0.0, 1.0] or [0,1,2]).\n",
    "            If None, labels = sorted unique values from y_true ∪ y_pred.\n",
    "    Returns: (cm, labels) where cm is a numpy array shape (K,K) with rows=true, cols=pred.\n",
    "    \"\"\"\n",
    "    y_true = np.asarray(y_true)\n",
    "    y_pred = np.asarray(y_pred)\n",
    "    if y_true.shape != y_pred.shape:\n",
    "        raise ValueError(\"y_true and y_pred must have the same shape\")\n",
    "\n",
    "    if labels is None:\n",
    "        labels = np.unique(np.concatenate([y_true, y_pred]))\n",
    "    else:\n",
    "        labels = np.asarray(labels)\n",
    "\n",
    "    K = len(labels)\n",
    "    label_to_index = {lab: i for i, lab in enumerate(labels)}\n",
    "    cm = np.zeros((K, K), dtype=int)\n",
    "\n",
    "    for t, p in zip(y_true, y_pred):\n",
    "        # handle unseen labels gracefully\n",
    "        if t in label_to_index and p in label_to_index:\n",
    "            cm[label_to_index[t], label_to_index[p]] += 1\n",
    "        else:\n",
    "            # optional: count/ignore unknown labels\n",
    "            pass\n",
    "\n",
    "    if display:\n",
    "        df = pd.DataFrame(cm, index=[f\"true={l}\" for l in labels],\n",
    "                          columns=[f\"pred={l}\" for l in labels])\n",
    "        print(\"Confusion matrix (counts):\")\n",
    "        print(df)\n",
    "        # Metrics\n",
    "        accuracy = np.trace(cm) / cm.sum() if cm.sum() > 0 else 0.0\n",
    "        print(f\"\\nOverall accuracy: {accuracy:.4f}\")\n",
    "\n",
    "        # per-class precision, recall, f1\n",
    "        precisions = []\n",
    "        recalls = []\n",
    "        f1s = []\n",
    "        for i, lab in enumerate(labels):\n",
    "            tp = cm[i, i]\n",
    "            fp = cm[:, i].sum() - tp\n",
    "            fn = cm[i, :].sum() - tp\n",
    "            prec = tp / (tp + fp) if (tp + fp) > 0 else 0.0\n",
    "            rec = tp / (tp + fn) if (tp + fn) > 0 else 0.0\n",
    "            f1 = 2 * prec * rec / (prec + rec) if (prec + rec) > 0 else 0.0\n",
    "            precisions.append(prec)\n",
    "            recalls.append(rec)\n",
    "            f1s.append(f1)\n",
    "            print(f\"Class {lab}: precision={prec:.3f}, recall={rec:.3f}, f1={f1:.3f}\")\n",
    "\n",
    "        print(f\"\\nMacro F1: {np.mean(f1s):.4f}\")\n",
    "    return cm, labels\n",
    "\n"
   ]
  },
  {
   "cell_type": "code",
   "execution_count": 29,
   "id": "3c6ceba9",
   "metadata": {},
   "outputs": [],
   "source": [
    "import numpy as np\n",
    "import matplotlib.pyplot as plt\n",
    "import seaborn as sns\n",
    "from sklearn.metrics import precision_recall_fscore_support, accuracy_score\n",
    "\n",
    "def plot_confusion_matrix(cm,\n",
    "                          labels,\n",
    "                          out_name,\n",
    "                          normalize=None,     # None | 'true' | 'pred' | 'all'\n",
    "                          figsize=(7,6),\n",
    "                          cmap='Blues',\n",
    "                          fmt='.2f',\n",
    "                          annot_size=12,\n",
    "                          title=None,\n",
    "                          show_metrics=True,\n",
    "                          savepath=None):\n",
    "    \"\"\"\n",
    "    Pretty confusion matrix plot using seaborn.\n",
    "    - cm: integer numpy array shape (K, K), rows=true, cols=pred\n",
    "    - labels: list of K labels (strings) in the order of the matrix\n",
    "    - normalize: None | 'true' (row-wise recall) | 'pred' (col-wise) | 'all' (global)\n",
    "    - savepath: if given, saves the figure to this path (png/pdf).\n",
    "    \"\"\"\n",
    "    cm = np.asarray(cm).astype(int)\n",
    "    if cm.ndim != 2 or cm.shape[0] != cm.shape[1]:\n",
    "        raise ValueError(\"cm must be a square (K,K) matrix\")\n",
    "\n",
    "    # compute display matrix\n",
    "    disp = cm.astype(float)\n",
    "    if normalize == 'true':\n",
    "        row_sums = disp.sum(axis=1, keepdims=True)\n",
    "        # avoid divide-by-zero\n",
    "        row_sums[row_sums == 0] = 1\n",
    "        disp = disp / row_sums\n",
    "        annot_fmt = fmt\n",
    "    elif normalize == 'pred':\n",
    "        col_sums = disp.sum(axis=0, keepdims=True)\n",
    "        col_sums[col_sums == 0] = 1\n",
    "        disp = disp / col_sums\n",
    "        annot_fmt = fmt\n",
    "    elif normalize == 'all':\n",
    "        total = disp.sum()\n",
    "        total = total if total != 0 else 1\n",
    "        disp = disp / total\n",
    "        annot_fmt = fmt\n",
    "    else:\n",
    "        # no normalization: show counts, but also show percent text below\n",
    "        annot_fmt = 'd'\n",
    "\n",
    "    K = len(labels)\n",
    "\n",
    "    # Build annotation strings: show \"count\\n(percentage)\" or just count/percent depending on normalize\n",
    "    annot = np.empty_like(disp, dtype=object)\n",
    "    total = cm.sum() if cm.sum() > 0 else 1\n",
    "    for i in range(K):\n",
    "        for j in range(K):\n",
    "            count = cm[i, j]\n",
    "            if normalize is None:\n",
    "                pct = count / total\n",
    "                annot[i, j] = f\"{count}\\n({pct:.1%})\"\n",
    "            else:\n",
    "                annot[i, j] = f\"{disp[i, j]:{annot_fmt}}\"\n",
    "\n",
    "    plt.figure(figsize=figsize)\n",
    "    sns.set(style='white')\n",
    "    ax = sns.heatmap(disp, annot=annot, fmt='', cmap=cmap, cbar=True,\n",
    "                     xticklabels=labels, yticklabels=labels,\n",
    "                     linewidths=.5, linecolor='gray', annot_kws={\"size\": annot_size})\n",
    "    ax.set_xlabel('Predicted label', fontsize=12)\n",
    "    ax.set_ylabel('True label', fontsize=12)\n",
    "\n",
    "    # Compute summary metrics\n",
    "    if show_metrics:\n",
    "        y_true = []\n",
    "        y_pred = []\n",
    "        for i in range(K):\n",
    "            for j in range(K):\n",
    "                cnt = int(cm[i, j])\n",
    "                if cnt > 0:\n",
    "                    y_true.extend([labels[i]] * cnt)\n",
    "                    y_pred.extend([labels[j]] * cnt)\n",
    "        # If no examples at all, skip metrics\n",
    "        if len(y_true) > 0:\n",
    "            acc = accuracy_score(y_true, y_pred)\n",
    "            prec, rec, f1, _ = precision_recall_fscore_support(y_true, y_pred, labels=labels, zero_division=0)\n",
    "            # build a small summary string\n",
    "            per_class_lines = [f\"{lab}: P={p:.2f} R={r:.2f} F1={f:.2f}\" for lab, p, r, f in zip(labels, prec, rec, f1)]\n",
    "            summary = f\"Accuracy: {acc:.3f}\\n\" + \"\\n\".join(per_class_lines)\n",
    "        else:\n",
    "            summary = \"No samples to compute metrics.\"\n",
    "    else:\n",
    "        summary = \"\"\n",
    "\n",
    "    # Title placement\n",
    "    if title is None:\n",
    "        if normalize is None:\n",
    "            nm = 'Counts (with global %)'\n",
    "        else:\n",
    "            nm = f\"Normalized ({normalize})\"\n",
    "        title = f\"Confusion Matrix — {out_name} {nm}\"\n",
    "    ax.set_title(title, fontsize=14, pad=12)\n",
    "\n",
    "    # place metrics text on the right\n",
    "    if show_metrics:\n",
    "        plt.gcf().text(0.95, 0.5, summary, fontsize=10, va='center', ha='left', family='monospace')\n",
    "\n",
    "    plt.tight_layout(rect=[0, 0, 0.94, 1])  # leave space on right for text\n",
    "\n",
    "    if savepath:\n",
    "        plt.savefig(savepath, bbox_inches='tight', dpi=300)\n",
    "    plt.show()\n"
   ]
  },
  {
   "cell_type": "code",
   "execution_count": 21,
   "id": "d91a9030",
   "metadata": {},
   "outputs": [
    {
     "name": "stdout",
     "output_type": "stream",
     "text": [
      "Confusion matrix (counts):\n",
      "           pred=-1.0  pred=0.0  pred=1.0\n",
      "true=-1.0        536       445       165\n",
      "true=0.0        1744      2841      1235\n",
      "true=1.0         665      1424       934\n",
      "\n",
      "Overall accuracy: 0.4316\n",
      "Class -1.0: precision=0.182, recall=0.468, f1=0.262\n",
      "Class 0.0: precision=0.603, recall=0.488, f1=0.540\n",
      "Class 1.0: precision=0.400, recall=0.309, f1=0.349\n",
      "\n",
      "Macro F1: 0.3834\n"
     ]
    }
   ],
   "source": [
    "sentiment_textblob['3class_tb'], score_vader['3class_vad'], score_roberta['label']\n",
    "cm_tb, labels_tb = build_confusion_matrix(sentiment_textblob['3class_tb'], y_raw, labels=[-1.0, 0.0, 1.0])"
   ]
  },
  {
   "cell_type": "code",
   "execution_count": 30,
   "id": "3f1dbe1f",
   "metadata": {},
   "outputs": [
    {
     "data": {
      "image/png": "[encoded data removed]",
      "text/plain": [
       "<Figure size 700x600 with 2 Axes>"
      ]
     },
     "metadata": {},
     "output_type": "display_data"
    }
   ],
   "source": [
    "plot_confusion_matrix(cm_tb, labels_tb,out_name = \"text_blob\", figsize=(7,6))"
   ]
  },
  {
   "cell_type": "code",
   "execution_count": null,
   "id": "7a07205d",
   "metadata": {},
   "outputs": [
    {
     "name": "stdout",
     "output_type": "stream",
     "text": [
      "Confusion matrix (counts):\n",
      "           pred=-1.0  pred=0.0  pred=1.0\n",
      "true=-1.0        718       400       178\n",
      "true=0.0        1325      2467      1010\n",
      "true=1.0         902      1843      1146\n",
      "\n",
      "Overall accuracy: 0.4336\n",
      "Class -1.0: precision=0.244, recall=0.554, f1=0.339\n",
      "Class 0.0: precision=0.524, recall=0.514, f1=0.519\n",
      "Class 1.0: precision=0.491, recall=0.295, f1=0.368\n",
      "\n",
      "Macro F1: 0.4085\n"
     ]
    }
   ],
   "source": [
    "cm_vader, labels_vader = build_confusion_matrix(score_vader['3class_vad'], y_raw, labels=[-1.0, 0.0, 1.0])"
   ]
  },
  {
   "cell_type": "code",
   "execution_count": 31,
   "id": "63d37e1a",
   "metadata": {},
   "outputs": [
    {
     "data": {
      "image/png": "[encoded data removed]",
      "text/plain": [
       "<Figure size 700x600 with 2 Axes>"
      ]
     },
     "metadata": {},
     "output_type": "display_data"
    }
   ],
   "source": [
    "plot_confusion_matrix(cm_vader, labels_tb,out_name = \"vader\", figsize=(7,6))"
   ]
  },
  {
   "cell_type": "code",
   "execution_count": 32,
   "id": "24c01d1d",
   "metadata": {},
   "outputs": [
    {
     "name": "stdout",
     "output_type": "stream",
     "text": [
      "Confusion matrix (counts):\n",
      "           pred=-1.0  pred=0.0  pred=1.0\n",
      "true=-1.0       1364       573       267\n",
      "true=0.0        1106      3374       715\n",
      "true=1.0         475       763      1352\n",
      "\n",
      "Overall accuracy: 0.6097\n",
      "Class -1.0: precision=0.463, recall=0.619, f1=0.530\n",
      "Class 0.0: precision=0.716, recall=0.649, f1=0.681\n",
      "Class 1.0: precision=0.579, recall=0.522, f1=0.549\n",
      "\n",
      "Macro F1: 0.5867\n"
     ]
    },
    {
     "data": {
      "image/png": "[encoded data removed]",
      "text/plain": [
       "<Figure size 700x600 with 2 Axes>"
      ]
     },
     "metadata": {},
     "output_type": "display_data"
    }
   ],
   "source": [
    "cm_robert, labels_robert = build_confusion_matrix(score_roberta['label'], y_raw, labels=[-1.0, 0.0, 1.0])\n",
    "plot_confusion_matrix(cm_robert, labels_robert,out_name = \"roberta\", figsize=(7,6))"
   ]
  }
 ],
 "metadata": {
  "kernelspec": {
   "display_name": "eeg_study",
   "language": "python",
   "name": "python3"
  },
  "language_info": {
   "codemirror_mode": {
    "name": "ipython",
    "version": 3
   },
   "file_extension": ".py",
   "mimetype": "text/x-python",
   "name": "python",
   "nbconvert_exporter": "python",
   "pygments_lexer": "ipython3",
   "version": "3.11.13"
  }
 },
 "nbformat": 4,
 "nbformat_minor": 5
}
