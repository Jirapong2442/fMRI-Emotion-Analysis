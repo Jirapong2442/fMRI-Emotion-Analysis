{
 "cells": [
  {
   "cell_type": "markdown",
   "metadata": {},
   "source": [
    "# sentence reconstruction from srt file"
   ]
  },
  {
   "cell_type": "code",
   "execution_count": 17,
   "metadata": {},
   "outputs": [],
   "source": [
    "import numpy as np\n",
    "import pandas as pd\n",
    "import re"
   ]
  },
  {
   "cell_type": "code",
   "execution_count": 18,
   "metadata": {},
   "outputs": [],
   "source": [
    "path = \"C:/Users/NA/Saved Games/eeg_study/modified_500_days_of_summer_subtitle.srt\"\n",
    "#path = \"C:/Users/NA/Saved Games/eeg_study/subtitle_all/12_years_a_slave_subtitle.srt\"\n",
    "#path = \"C:/Users/NA/Saved Games/eeg_study/subtitle_all/the_usual_suspects_subtitle.srt\"\n",
    "with open(path, \"r\", encoding='utf-8-sig') as f:\n",
    "    string = f.read()\n",
    "    lines = string.split(\"\\n\")\n",
    "    time_arr = []\n",
    "    subtitles = []\n",
    "    first_text = True\n",
    "    continueable = False\n",
    "    for line in lines:\n",
    "        if (len(line) < 5 and line.isdigit()) or len(line) == 0:\n",
    "            continue\n",
    "            \n",
    "        if \" --> \" not in line:\n",
    "            text = line.strip()\n",
    "            if continueable : # add subtitle with ... place holder of differnt time annotation\n",
    "                last_subtitles = subtitles[-1]\n",
    "                subtitles.pop()\n",
    "                subtitles.append((last_subtitles + \" \" + text))\n",
    "\n",
    "                last_time = time_arr[-2]\n",
    "                time_arr.pop()\n",
    "                time_arr.pop()\n",
    "                time_arr.append((last_time[0], end_time))\n",
    "                continueable = False\n",
    "                first_text = False \n",
    "\n",
    "            else:\n",
    "                if \"...\" in line and not first_text:\n",
    "                    text = text.replace(\"...\", \"\")\n",
    "                    continueable = True\n",
    "                elif \"...\" in line and first_text: # add this to skip the continuable if \"\"...\" presence only in the line\n",
    "                    text = text.replace(\"...\", \"\")\n",
    "                    \n",
    "                if first_text  :\n",
    "                    subtitles.append(text)\n",
    "                    first_text = False\n",
    "                else: # add subtitle between line of the same time annotation\n",
    "                    last_subtitles = subtitles[-1]\n",
    "                    subtitles.pop()\n",
    "                    subtitles.append((last_subtitles + \" \" + text))\n",
    "\n",
    "            # to clean data with only time/subtitle\n",
    "            if len(subtitles) != len(time_arr):\n",
    "                print(text) \n",
    "                print(start_time)\n",
    "                print(f\"len subtitle is {len(subtitles)}\")\n",
    "                print(f\"len time ios {len(time_arr)}\")\n",
    "\n",
    "        else:\n",
    "            first_text = True\n",
    "            time = line.split(\" --> \")\n",
    "            start = time[0].split(\",\")[0].split(\":\")\n",
    "            end = time[1].split(\",\")[0].split(\":\")\n",
    "            start_ms = time[0].split(\",\")[1]\n",
    "            end_ms = time[1].split(\",\")[1]\n",
    "            start_time = int(start[0]) * 3600 + int(start[1]) * 60 + float(start[2]) + float(start_ms) / 1000\n",
    "            end_time = int(end[0]) * 3600 + int(end[1]) * 60 + float(end[2]) + float(end_ms) / 1000\n",
    "            time_arr.append((start_time, end_time))\n",
    "    "
   ]
  },
  {
   "cell_type": "code",
   "execution_count": 19,
   "metadata": {},
   "outputs": [],
   "source": [
    "sentence_arr = pd.DataFrame({\n",
    "    \"start_time\": [t[0] for t in time_arr],\n",
    "    \"end_time\": [t[1] for t in time_arr],\n",
    "    \"text\": subtitles\n",
    "})"
   ]
  },
  {
   "cell_type": "code",
   "execution_count": 20,
   "metadata": {},
   "outputs": [
    {
     "data": {
      "application/vnd.microsoft.datawrangler.viewer.v0+json": {
       "columns": [
        {
         "name": "index",
         "rawType": "int64",
         "type": "integer"
        },
        {
         "name": "start_time",
         "rawType": "float64",
         "type": "float"
        },
        {
         "name": "end_time",
         "rawType": "float64",
         "type": "float"
        },
        {
         "name": "text",
         "rawType": "object",
         "type": "string"
        }
       ],
       "ref": "7634c33c-3c96-4aa6-a0f2-f0506c9a0529",
       "rows": [
        [
         "0",
         "61.96",
         "65.16",
         "This is a story of boy meets girl."
        ],
        [
         "1",
         "69.28",
         "77.56",
         "The boy, Tom Hansen of Margate, New Jersey grew up believing that he'd never truly be happy until the day he met \"the one.\""
        ],
        [
         "2",
         "77.68",
         "85.08",
         "This belief stemmed from early exposure to sad British pop music and a total misreading of the movie The Graduate."
        ],
        [
         "3",
         "85.2",
         "87.4",
         "Elaine! Elaine!"
        ],
        [
         "4",
         "87.519",
         "92.6",
         "The girl, Summer finn of Shinnecock, Michigan did not share this belief."
        ],
        [
         "5",
         "92.719",
         "98.32",
         "Since the disintegration of her parents' marriage she'd only loved two things."
        ],
        [
         "6",
         "98.439",
         "101.4",
         "The first was her long, dark hair."
        ],
        [
         "7",
         "101.519",
         "106.4",
         "The second was how easily she could cut it off and feel nothing."
        ],
        [
         "8",
         "107.439",
         "110.56",
         "Tom meets Summer on January eighth."
        ],
        [
         "9",
         "110.68",
         "114.76",
         "He knows almost immediately she's who he's been searching for."
        ],
        [
         "10",
         "116.04",
         "119.08",
         "This is a story of boy meets girl."
        ],
        [
         "11",
         "120.159",
         "122.12",
         "But you should know up front"
        ],
        [
         "12",
         "122.239",
         "124.12",
         "this is not a love story."
        ],
        [
         "13",
         "129.759",
         "132.84",
         "#They made a statue of us #"
        ],
        [
         "14",
         "134.879",
         "138.08",
         "#And put it on a mountaintop #"
        ],
        [
         "15",
         "140.159",
         "143.48",
         "# Now tourists come and stare at us #"
        ],
        [
         "16",
         "144.759",
         "147.16",
         "# Blow bubbles with their gum #"
        ],
        [
         "17",
         "147.28",
         "149.4",
         "#Take photographs of fun #"
        ],
        [
         "18",
         "149.52",
         "151.36",
         "# Have fun #"
        ],
        [
         "19",
         "155.52",
         "158.88",
         "# They'll name a city after us #"
        ],
        [
         "20",
         "160.719",
         "164.36",
         "# And later say it's all our fault #"
        ],
        [
         "21",
         "166.0",
         "168.56",
         "#Then they'll give us a talking to #"
        ],
        [
         "22",
         "168.68",
         "171.12",
         "#Then they'll give us a talking to #"
        ],
        [
         "23",
         "171.24",
         "175.08",
         "# 'Cause they've got years of experience #"
        ],
        [
         "24",
         "178.8",
         "182.0",
         "# Living in a den of thieves #"
        ],
        [
         "25",
         "182.12",
         "187.16",
         "# Rummaging for answers in the pages #"
        ],
        [
         "26",
         "189.719",
         "193.0",
         "# Living in a den of thieves #"
        ],
        [
         "27",
         "193.12",
         "195.44",
         "# And it's contagious #"
        ],
        [
         "28",
         "195.56",
         "198.64",
         "# And it's contagious #"
        ],
        [
         "29",
         "198.759",
         "201.16",
         "# And it's contagious #"
        ],
        [
         "30",
         "201.28",
         "203.92",
         "# And it's contagious #_"
        ],
        [
         "31",
         "248.479",
         "250.6",
         "We didn't know who else to call."
        ],
        [
         "32",
         "250.719",
         "252.72",
         "it's Amanda Heller all over again."
        ],
        [
         "33",
         "252.84",
         "254.64",
         "You did the right thing."
        ],
        [
         "34",
         "256.04",
         "259.48",
         "Now, where is he?"
        ],
        [
         "35",
         "265.04",
         "266.92",
         "Thomas."
        ],
        [
         "36",
         "268.079",
         "270.8",
         "Rachel. What are you doing here?"
        ],
        [
         "37",
         "270.92",
         "273.24",
         "- I'm here to help you. - Help me how?"
        ],
        [
         "38",
         "273.36",
         "275.48",
         "First, put down the plate."
        ],
        [
         "39",
         "277.16",
         "278.76",
         "Drink this."
        ],
        [
         "40",
         "280.079",
         "282.12",
         "- What is that? - Vodka."
        ],
        [
         "41",
         "282.24",
         "284.36",
         "Um, does Mom know that you're here?"
        ],
        [
         "42",
         "284.48",
         "287.76",
         "- 'Cause it's probably past ten. - Don't worry about it."
        ],
        [
         "43",
         "287.879",
         "292.28",
         "Just start from the beginning, and tell us what happened."
        ],
        [
         "44",
         "292.399",
         "294.92",
         "Things were going so well."
        ],
        [
         "45",
         "306.16",
         "308.44",
         "Then what?"
        ],
        [
         "46",
         "308.56",
         "310.64",
         "I think we should stop seeing each other."
        ],
        [
         "47",
         "310.759",
         "312.76",
         "-Just like that? -Just like that."
        ],
        [
         "48",
         "312.879",
         "316.52",
         "- Did she say why? - I mean, this thing- what are we doing?"
        ],
        [
         "49",
         "316.639",
         "318.6",
         "I mean, is this normal?"
        ]
       ],
       "shape": {
        "columns": 3,
        "rows": 1297
       }
      },
      "text/html": [
       "<div>\n",
       "<style scoped>\n",
       "    .dataframe tbody tr th:only-of-type {\n",
       "        vertical-align: middle;\n",
       "    }\n",
       "\n",
       "    .dataframe tbody tr th {\n",
       "        vertical-align: top;\n",
       "    }\n",
       "\n",
       "    .dataframe thead th {\n",
       "        text-align: right;\n",
       "    }\n",
       "</style>\n",
       "<table border=\"1\" class=\"dataframe\">\n",
       "  <thead>\n",
       "    <tr style=\"text-align: right;\">\n",
       "      <th></th>\n",
       "      <th>start_time</th>\n",
       "      <th>end_time</th>\n",
       "      <th>text</th>\n",
       "    </tr>\n",
       "  </thead>\n",
       "  <tbody>\n",
       "    <tr>\n",
       "      <th>0</th>\n",
       "      <td>61.960</td>\n",
       "      <td>65.16</td>\n",
       "      <td>This is a story of boy meets girl.</td>\n",
       "    </tr>\n",
       "    <tr>\n",
       "      <th>1</th>\n",
       "      <td>69.280</td>\n",
       "      <td>77.56</td>\n",
       "      <td>The boy, Tom Hansen of Margate, New Jersey gre...</td>\n",
       "    </tr>\n",
       "    <tr>\n",
       "      <th>2</th>\n",
       "      <td>77.680</td>\n",
       "      <td>85.08</td>\n",
       "      <td>This belief stemmed from early exposure to sad...</td>\n",
       "    </tr>\n",
       "    <tr>\n",
       "      <th>3</th>\n",
       "      <td>85.200</td>\n",
       "      <td>87.40</td>\n",
       "      <td>Elaine! Elaine!</td>\n",
       "    </tr>\n",
       "    <tr>\n",
       "      <th>4</th>\n",
       "      <td>87.519</td>\n",
       "      <td>92.60</td>\n",
       "      <td>The girl, Summer finn of Shinnecock, Michigan ...</td>\n",
       "    </tr>\n",
       "    <tr>\n",
       "      <th>...</th>\n",
       "      <td>...</td>\n",
       "      <td>...</td>\n",
       "      <td>...</td>\n",
       "    </tr>\n",
       "    <tr>\n",
       "      <th>1292</th>\n",
       "      <td>5354.960</td>\n",
       "      <td>5358.36</td>\n",
       "      <td># What's this about I figured love would shine...</td>\n",
       "    </tr>\n",
       "    <tr>\n",
       "      <th>1293</th>\n",
       "      <td>5358.479</td>\n",
       "      <td>5361.84</td>\n",
       "      <td># We've lost romance This world, its turns wil...</td>\n",
       "    </tr>\n",
       "    <tr>\n",
       "      <th>1294</th>\n",
       "      <td>5361.960</td>\n",
       "      <td>5365.24</td>\n",
       "      <td># Open your mind Believe it's gonna come true #</td>\n",
       "    </tr>\n",
       "    <tr>\n",
       "      <th>1295</th>\n",
       "      <td>5365.359</td>\n",
       "      <td>5368.84</td>\n",
       "      <td># Keep romance alive and hope she's gonna tell...</td>\n",
       "    </tr>\n",
       "    <tr>\n",
       "      <th>1296</th>\n",
       "      <td>5368.960</td>\n",
       "      <td>5375.08</td>\n",
       "      <td># She's got you high #</td>\n",
       "    </tr>\n",
       "  </tbody>\n",
       "</table>\n",
       "<p>1297 rows × 3 columns</p>\n",
       "</div>"
      ],
      "text/plain": [
       "      start_time  end_time                                               text\n",
       "0         61.960     65.16                 This is a story of boy meets girl.\n",
       "1         69.280     77.56  The boy, Tom Hansen of Margate, New Jersey gre...\n",
       "2         77.680     85.08  This belief stemmed from early exposure to sad...\n",
       "3         85.200     87.40                                    Elaine! Elaine!\n",
       "4         87.519     92.60  The girl, Summer finn of Shinnecock, Michigan ...\n",
       "...          ...       ...                                                ...\n",
       "1292    5354.960   5358.36  # What's this about I figured love would shine...\n",
       "1293    5358.479   5361.84  # We've lost romance This world, its turns wil...\n",
       "1294    5361.960   5365.24    # Open your mind Believe it's gonna come true #\n",
       "1295    5365.359   5368.84  # Keep romance alive and hope she's gonna tell...\n",
       "1296    5368.960   5375.08                             # She's got you high #\n",
       "\n",
       "[1297 rows x 3 columns]"
      ]
     },
     "execution_count": 20,
     "metadata": {},
     "output_type": "execute_result"
    }
   ],
   "source": [
    "sentence_arr"
   ]
  },
  {
   "cell_type": "code",
   "execution_count": 21,
   "metadata": {},
   "outputs": [],
   "source": [
    "def clean_sentence(sentence):\n",
    "    sentence = re.sub(r'#', '', sentence)  # Remove only hashtag symbol\n",
    "    #sentence = sentence.lower()               # Lowercase\n",
    "    sentence = re.sub(r'\\s+', ' ', sentence)  # Remove extra spaces\n",
    "    return sentence.strip()  \n",
    "sentence_arr['text'] = sentence_arr['text'].apply(clean_sentence)"
   ]
  },
  {
   "cell_type": "code",
   "execution_count": 22,
   "metadata": {},
   "outputs": [
    {
     "data": {
      "application/vnd.microsoft.datawrangler.viewer.v0+json": {
       "columns": [
        {
         "name": "index",
         "rawType": "int64",
         "type": "integer"
        },
        {
         "name": "start_time",
         "rawType": "float64",
         "type": "float"
        },
        {
         "name": "end_time",
         "rawType": "float64",
         "type": "float"
        },
        {
         "name": "text",
         "rawType": "object",
         "type": "string"
        }
       ],
       "ref": "eee565d3-d82f-49f1-9681-dc919f6c0a34",
       "rows": [
        [
         "0",
         "61.96",
         "65.16",
         "This is a story of boy meets girl."
        ],
        [
         "1",
         "69.28",
         "77.56",
         "The boy, Tom Hansen of Margate, New Jersey grew up believing that he'd never truly be happy until the day he met \"the one.\""
        ],
        [
         "2",
         "77.68",
         "85.08",
         "This belief stemmed from early exposure to sad British pop music and a total misreading of the movie The Graduate."
        ],
        [
         "3",
         "85.2",
         "87.4",
         "Elaine! Elaine!"
        ],
        [
         "4",
         "87.519",
         "92.6",
         "The girl, Summer finn of Shinnecock, Michigan did not share this belief."
        ],
        [
         "5",
         "92.719",
         "98.32",
         "Since the disintegration of her parents' marriage she'd only loved two things."
        ],
        [
         "6",
         "98.439",
         "101.4",
         "The first was her long, dark hair."
        ],
        [
         "7",
         "101.519",
         "106.4",
         "The second was how easily she could cut it off and feel nothing."
        ],
        [
         "8",
         "107.439",
         "110.56",
         "Tom meets Summer on January eighth."
        ],
        [
         "9",
         "110.68",
         "114.76",
         "He knows almost immediately she's who he's been searching for."
        ],
        [
         "10",
         "116.04",
         "119.08",
         "This is a story of boy meets girl."
        ],
        [
         "11",
         "120.159",
         "122.12",
         "But you should know up front"
        ],
        [
         "12",
         "122.239",
         "124.12",
         "this is not a love story."
        ],
        [
         "13",
         "129.759",
         "132.84",
         "They made a statue of us"
        ],
        [
         "14",
         "134.879",
         "138.08",
         "And put it on a mountaintop"
        ],
        [
         "15",
         "140.159",
         "143.48",
         "Now tourists come and stare at us"
        ],
        [
         "16",
         "144.759",
         "147.16",
         "Blow bubbles with their gum"
        ],
        [
         "17",
         "147.28",
         "149.4",
         "Take photographs of fun"
        ],
        [
         "18",
         "149.52",
         "151.36",
         "Have fun"
        ],
        [
         "19",
         "155.52",
         "158.88",
         "They'll name a city after us"
        ],
        [
         "20",
         "160.719",
         "164.36",
         "And later say it's all our fault"
        ],
        [
         "21",
         "166.0",
         "168.56",
         "Then they'll give us a talking to"
        ],
        [
         "22",
         "168.68",
         "171.12",
         "Then they'll give us a talking to"
        ],
        [
         "23",
         "171.24",
         "175.08",
         "'Cause they've got years of experience"
        ],
        [
         "24",
         "178.8",
         "182.0",
         "Living in a den of thieves"
        ],
        [
         "25",
         "182.12",
         "187.16",
         "Rummaging for answers in the pages"
        ],
        [
         "26",
         "189.719",
         "193.0",
         "Living in a den of thieves"
        ],
        [
         "27",
         "193.12",
         "195.44",
         "And it's contagious"
        ],
        [
         "28",
         "195.56",
         "198.64",
         "And it's contagious"
        ],
        [
         "29",
         "198.759",
         "201.16",
         "And it's contagious"
        ],
        [
         "30",
         "201.28",
         "203.92",
         "And it's contagious _"
        ],
        [
         "31",
         "248.479",
         "250.6",
         "We didn't know who else to call."
        ],
        [
         "32",
         "250.719",
         "252.72",
         "it's Amanda Heller all over again."
        ],
        [
         "33",
         "252.84",
         "254.64",
         "You did the right thing."
        ],
        [
         "34",
         "256.04",
         "259.48",
         "Now, where is he?"
        ],
        [
         "35",
         "265.04",
         "266.92",
         "Thomas."
        ],
        [
         "36",
         "268.079",
         "270.8",
         "Rachel. What are you doing here?"
        ],
        [
         "37",
         "270.92",
         "273.24",
         "- I'm here to help you. - Help me how?"
        ],
        [
         "38",
         "273.36",
         "275.48",
         "First, put down the plate."
        ],
        [
         "39",
         "277.16",
         "278.76",
         "Drink this."
        ],
        [
         "40",
         "280.079",
         "282.12",
         "- What is that? - Vodka."
        ],
        [
         "41",
         "282.24",
         "284.36",
         "Um, does Mom know that you're here?"
        ],
        [
         "42",
         "284.48",
         "287.76",
         "- 'Cause it's probably past ten. - Don't worry about it."
        ],
        [
         "43",
         "287.879",
         "292.28",
         "Just start from the beginning, and tell us what happened."
        ],
        [
         "44",
         "292.399",
         "294.92",
         "Things were going so well."
        ],
        [
         "45",
         "306.16",
         "308.44",
         "Then what?"
        ],
        [
         "46",
         "308.56",
         "310.64",
         "I think we should stop seeing each other."
        ],
        [
         "47",
         "310.759",
         "312.76",
         "-Just like that? -Just like that."
        ],
        [
         "48",
         "312.879",
         "316.52",
         "- Did she say why? - I mean, this thing- what are we doing?"
        ],
        [
         "49",
         "316.639",
         "318.6",
         "I mean, is this normal?"
        ]
       ],
       "shape": {
        "columns": 3,
        "rows": 1297
       }
      },
      "text/html": [
       "<div>\n",
       "<style scoped>\n",
       "    .dataframe tbody tr th:only-of-type {\n",
       "        vertical-align: middle;\n",
       "    }\n",
       "\n",
       "    .dataframe tbody tr th {\n",
       "        vertical-align: top;\n",
       "    }\n",
       "\n",
       "    .dataframe thead th {\n",
       "        text-align: right;\n",
       "    }\n",
       "</style>\n",
       "<table border=\"1\" class=\"dataframe\">\n",
       "  <thead>\n",
       "    <tr style=\"text-align: right;\">\n",
       "      <th></th>\n",
       "      <th>start_time</th>\n",
       "      <th>end_time</th>\n",
       "      <th>text</th>\n",
       "    </tr>\n",
       "  </thead>\n",
       "  <tbody>\n",
       "    <tr>\n",
       "      <th>0</th>\n",
       "      <td>61.960</td>\n",
       "      <td>65.16</td>\n",
       "      <td>This is a story of boy meets girl.</td>\n",
       "    </tr>\n",
       "    <tr>\n",
       "      <th>1</th>\n",
       "      <td>69.280</td>\n",
       "      <td>77.56</td>\n",
       "      <td>The boy, Tom Hansen of Margate, New Jersey gre...</td>\n",
       "    </tr>\n",
       "    <tr>\n",
       "      <th>2</th>\n",
       "      <td>77.680</td>\n",
       "      <td>85.08</td>\n",
       "      <td>This belief stemmed from early exposure to sad...</td>\n",
       "    </tr>\n",
       "    <tr>\n",
       "      <th>3</th>\n",
       "      <td>85.200</td>\n",
       "      <td>87.40</td>\n",
       "      <td>Elaine! Elaine!</td>\n",
       "    </tr>\n",
       "    <tr>\n",
       "      <th>4</th>\n",
       "      <td>87.519</td>\n",
       "      <td>92.60</td>\n",
       "      <td>The girl, Summer finn of Shinnecock, Michigan ...</td>\n",
       "    </tr>\n",
       "    <tr>\n",
       "      <th>...</th>\n",
       "      <td>...</td>\n",
       "      <td>...</td>\n",
       "      <td>...</td>\n",
       "    </tr>\n",
       "    <tr>\n",
       "      <th>1292</th>\n",
       "      <td>5354.960</td>\n",
       "      <td>5358.36</td>\n",
       "      <td>What's this about I figured love would shine t...</td>\n",
       "    </tr>\n",
       "    <tr>\n",
       "      <th>1293</th>\n",
       "      <td>5358.479</td>\n",
       "      <td>5361.84</td>\n",
       "      <td>We've lost romance This world, its turns will ...</td>\n",
       "    </tr>\n",
       "    <tr>\n",
       "      <th>1294</th>\n",
       "      <td>5361.960</td>\n",
       "      <td>5365.24</td>\n",
       "      <td>Open your mind Believe it's gonna come true</td>\n",
       "    </tr>\n",
       "    <tr>\n",
       "      <th>1295</th>\n",
       "      <td>5365.359</td>\n",
       "      <td>5368.84</td>\n",
       "      <td>Keep romance alive and hope she's gonna tell you</td>\n",
       "    </tr>\n",
       "    <tr>\n",
       "      <th>1296</th>\n",
       "      <td>5368.960</td>\n",
       "      <td>5375.08</td>\n",
       "      <td>She's got you high</td>\n",
       "    </tr>\n",
       "  </tbody>\n",
       "</table>\n",
       "<p>1297 rows × 3 columns</p>\n",
       "</div>"
      ],
      "text/plain": [
       "      start_time  end_time                                               text\n",
       "0         61.960     65.16                 This is a story of boy meets girl.\n",
       "1         69.280     77.56  The boy, Tom Hansen of Margate, New Jersey gre...\n",
       "2         77.680     85.08  This belief stemmed from early exposure to sad...\n",
       "3         85.200     87.40                                    Elaine! Elaine!\n",
       "4         87.519     92.60  The girl, Summer finn of Shinnecock, Michigan ...\n",
       "...          ...       ...                                                ...\n",
       "1292    5354.960   5358.36  What's this about I figured love would shine t...\n",
       "1293    5358.479   5361.84  We've lost romance This world, its turns will ...\n",
       "1294    5361.960   5365.24        Open your mind Believe it's gonna come true\n",
       "1295    5365.359   5368.84   Keep romance alive and hope she's gonna tell you\n",
       "1296    5368.960   5375.08                                 She's got you high\n",
       "\n",
       "[1297 rows x 3 columns]"
      ]
     },
     "execution_count": 22,
     "metadata": {},
     "output_type": "execute_result"
    }
   ],
   "source": [
    "sentence_arr"
   ]
  },
  {
   "cell_type": "markdown",
   "metadata": {},
   "source": [
    "# N-gram analysis"
   ]
  },
  {
   "cell_type": "code",
   "execution_count": null,
   "metadata": {},
   "outputs": [],
   "source": []
  },
  {
   "cell_type": "markdown",
   "metadata": {},
   "source": [
    "# Label text with RoBERTa transformer"
   ]
  },
  {
   "cell_type": "markdown",
   "metadata": {},
   "source": [
    "## sentiment analysis"
   ]
  },
  {
   "cell_type": "markdown",
   "metadata": {},
   "source": [
    "### distilbert\n",
    "2 classes trained with movie review dataset"
   ]
  },
  {
   "cell_type": "code",
   "execution_count": 207,
   "metadata": {},
   "outputs": [],
   "source": [
    "import torch\n",
    "from transformers import DistilBertTokenizer, DistilBertForSequenceClassification\n",
    "\n",
    "tokenizer_disBERT = DistilBertTokenizer.from_pretrained(\"distilbert-base-uncased-finetuned-sst-2-english\")\n",
    "model_disBert = DistilBertForSequenceClassification.from_pretrained(\"distilbert-base-uncased-finetuned-sst-2-english\")\n",
    "\n",
    "#apply model output probability for each sentiment\n",
    "all_class_disBERT = []\n",
    "input_vector = []\n",
    "for sentence in sentence_arr['text']:\n",
    "    encoded_input = tokenizer_disBERT(sentence, return_tensors='pt')\n",
    "    with torch.no_grad():\n",
    "        logits = model_disBert(**encoded_input).logits\n",
    "    predicted_class_id = logits.argmax().item()\n",
    "    all_class_disBERT.append(predicted_class_id)\n",
    "\n",
    "all_class_disBERT = pd.DataFrame(all_class_disBERT, columns=[\"dist_bert\"])"
   ]
  },
  {
   "cell_type": "markdown",
   "metadata": {},
   "source": [
    "### emotion data"
   ]
  },
  {
   "cell_type": "code",
   "execution_count": 23,
   "metadata": {},
   "outputs": [
    {
     "name": "stderr",
     "output_type": "stream",
     "text": [
      "c:\\Users\\NA\\.conda\\envs\\eeg_study\\Lib\\site-packages\\torch\\utils\\data\\dataloader.py:665: UserWarning: 'pin_memory' argument is set as true but no accelerator is found, then device pinned memory won't be used.\n",
      "  warnings.warn(warn_msg)\n"
     ]
    },
    {
     "data": {
      "text/html": [],
      "text/plain": [
       "<IPython.core.display.HTML object>"
      ]
     },
     "metadata": {},
     "output_type": "display_data"
    }
   ],
   "source": [
    "# import required packages\n",
    "import torch\n",
    "import pandas as pd\n",
    "import numpy as np\n",
    "from transformers import AutoTokenizer, AutoModelForSequenceClassification, Trainer\n",
    "\n",
    "# Create class for data preparation\n",
    "class SimpleDataset:\n",
    "    def __init__(self, tokenized_texts):\n",
    "        self.tokenized_texts = tokenized_texts\n",
    "    \n",
    "    def __len__(self):\n",
    "        return len(self.tokenized_texts[\"input_ids\"])\n",
    "    \n",
    "    def __getitem__(self, idx):\n",
    "        return {k: v[idx] for k, v in self.tokenized_texts.items()}\n",
    "    \n",
    "model_name = \"j-hartmann/emotion-english-distilroberta-base\"\n",
    "tokenizer = AutoTokenizer.from_pretrained(model_name)\n",
    "model = AutoModelForSequenceClassification.from_pretrained(model_name)\n",
    "trainer = Trainer(model=model)\n",
    "\n",
    "pred_text = sentence_arr['text'].astype('str').tolist()\n",
    "\n",
    "tokenized_texts = tokenizer(pred_text,truncation=True,padding=True) \n",
    "pred_dataset = SimpleDataset(tokenized_texts)\n",
    "predictions = trainer.predict(pred_dataset)\n",
    "\n",
    "# Transform predictions to labels\n",
    "preds = predictions.predictions.argmax(-1)\n",
    "labels = pd.Series(preds).map(model.config.id2label)\n",
    "scores = (np.exp(predictions[0])/np.exp(predictions[0]).sum(-1,keepdims=True)).max(1)\n",
    "\n",
    "# scores raw\n",
    "temp = (np.exp(predictions[0])/np.exp(predictions[0]).sum(-1,keepdims=True))\n",
    "\n",
    "# work in progress\n",
    "# container\n",
    "anger = []\n",
    "disgust = []\n",
    "fear = []\n",
    "joy = []\n",
    "neutral = []\n",
    "sadness = []\n",
    "surprise = []\n",
    "\n",
    "# extract scores (as many entries as exist in pred_texts)\n",
    "for i in range(len(pred_text)):\n",
    "  anger.append(temp[i][0])\n",
    "  disgust.append(temp[i][1])\n",
    "  fear.append(temp[i][2])\n",
    "  joy.append(temp[i][3])\n",
    "  neutral.append(temp[i][4])\n",
    "  sadness.append(temp[i][5])\n",
    "  surprise.append(temp[i][6])\n",
    "\n",
    "# Create DataFrame with texts, predictions, labels, and scores\n",
    "df = pd.DataFrame(list(zip(pred_text,preds,labels,scores,  anger, disgust, fear, joy, neutral, sadness, surprise)), columns=['text','pred','label','score', 'anger', 'disgust', 'fear', 'joy', 'neutral', 'sadness', 'surprise'])\n",
    "df.insert(0, 'start_time', sentence_arr['start_time'])\n",
    "df.insert(1, 'end_time', sentence_arr['end_time'])\n",
    "\n",
    "FILENAME = \"./csv_output/500days_of_summer_EMOTIONS.csv\"  # name your output file\n",
    "#df.to_csv(FILENAME)\n"
   ]
  },
  {
   "cell_type": "markdown",
   "metadata": {},
   "source": [
    "### RoBERTA"
   ]
  },
  {
   "cell_type": "code",
   "execution_count": 209,
   "metadata": {},
   "outputs": [
    {
     "name": "stderr",
     "output_type": "stream",
     "text": [
      "Some weights of the model checkpoint at cardiffnlp/twitter-roberta-base-sentiment-latest were not used when initializing RobertaForSequenceClassification: ['roberta.pooler.dense.bias', 'roberta.pooler.dense.weight']\n",
      "- This IS expected if you are initializing RobertaForSequenceClassification from the checkpoint of a model trained on another task or with another architecture (e.g. initializing a BertForSequenceClassification model from a BertForPreTraining model).\n",
      "- This IS NOT expected if you are initializing RobertaForSequenceClassification from the checkpoint of a model that you expect to be exactly identical (initializing a BertForSequenceClassification model from a BertForSequenceClassification model).\n"
     ]
    }
   ],
   "source": [
    "from transformers import AutoModelForSequenceClassification\n",
    "from transformers import TFAutoModelForSequenceClassification\n",
    "from transformers import AutoTokenizer, AutoConfig, AutoModel\n",
    "from scipy.special import softmax\n",
    "\n",
    "#load model\n",
    "MODEL = f\"cardiffnlp/twitter-roberta-base-sentiment-latest\"\n",
    "tokenizer = AutoTokenizer.from_pretrained(MODEL)\n",
    "config = AutoConfig.from_pretrained(MODEL)\n",
    "model_sentiment = AutoModelForSequenceClassification.from_pretrained(MODEL)"
   ]
  },
  {
   "cell_type": "code",
   "execution_count": 210,
   "metadata": {},
   "outputs": [],
   "source": [
    "#apply model output probability for each sentiment\n",
    "all_scores = []\n",
    "input_vector = []\n",
    "for sentence in sentence_arr['text']:\n",
    "    encoded_input = tokenizer(sentence, return_tensors='pt')\n",
    "    output = model_sentiment(**encoded_input)\n",
    "    scores = output[0][0].detach().numpy()\n",
    "    scores = softmax(scores)\n",
    "    all_scores.append(scores)"
   ]
  },
  {
   "cell_type": "code",
   "execution_count": 211,
   "metadata": {},
   "outputs": [],
   "source": [
    "# select the most dominat probability and make new column for class\n",
    "score_roberta = pd.DataFrame(all_scores, columns=['negative', 'neutral', 'positive'])\n",
    "score_roberta['label'] = score_roberta.apply(lambda x: x.idxmax(), axis=1)\n",
    "score_roberta['label'] = score_roberta['label'].map({'neutral': 0, 'negative': -1, 'positive': 1})\n",
    "#score_roberta['label'].to_csv(\"score_roberta.csv\")"
   ]
  },
  {
   "cell_type": "code",
   "execution_count": 212,
   "metadata": {},
   "outputs": [
    {
     "data": {
      "application/vnd.microsoft.datawrangler.viewer.v0+json": {
       "columns": [
        {
         "name": "index",
         "rawType": "int64",
         "type": "integer"
        },
        {
         "name": "negative",
         "rawType": "float32",
         "type": "float"
        },
        {
         "name": "neutral",
         "rawType": "float32",
         "type": "float"
        },
        {
         "name": "positive",
         "rawType": "float32",
         "type": "float"
        },
        {
         "name": "label",
         "rawType": "int64",
         "type": "integer"
        }
       ],
       "ref": "f1facaca-988e-4b5f-aa01-83f40a71a5bb",
       "rows": [
        [
         "0",
         "0.066079184",
         "0.8221694",
         "0.11175133",
         "0"
        ],
        [
         "1",
         "0.15560222",
         "0.61348444",
         "0.23091336",
         "0"
        ],
        [
         "2",
         "0.82564884",
         "0.16614039",
         "0.008210748",
         "-1"
        ],
        [
         "3",
         "0.020895002",
         "0.3749682",
         "0.6041368",
         "1"
        ],
        [
         "4",
         "0.4779773",
         "0.5104341",
         "0.011588619",
         "0"
        ],
        [
         "5",
         "0.33601868",
         "0.5354945",
         "0.12848684",
         "0"
        ],
        [
         "6",
         "0.01939487",
         "0.91250277",
         "0.06810242",
         "0"
        ],
        [
         "7",
         "0.28222558",
         "0.6215606",
         "0.09621386",
         "0"
        ],
        [
         "8",
         "0.004301836",
         "0.9294567",
         "0.06624148",
         "0"
        ],
        [
         "9",
         "0.008400914",
         "0.39946273",
         "0.5921363",
         "1"
        ],
        [
         "10",
         "0.066079184",
         "0.8221694",
         "0.11175133",
         "0"
        ],
        [
         "11",
         "0.13508019",
         "0.77035415",
         "0.09456573",
         "0"
        ],
        [
         "12",
         "0.7745459",
         "0.20759393",
         "0.017860143",
         "-1"
        ],
        [
         "13",
         "0.19095294",
         "0.717713",
         "0.09133407",
         "0"
        ],
        [
         "14",
         "0.095059164",
         "0.769331",
         "0.13560992",
         "0"
        ],
        [
         "15",
         "0.3416677",
         "0.61557674",
         "0.042755578",
         "0"
        ],
        [
         "16",
         "0.18385248",
         "0.65504456",
         "0.161103",
         "0"
        ],
        [
         "17",
         "0.020504728",
         "0.22517745",
         "0.7543178",
         "1"
        ],
        [
         "18",
         "0.0146847535",
         "0.1338746",
         "0.85144067",
         "1"
        ],
        [
         "19",
         "0.06130115",
         "0.69508004",
         "0.24361888",
         "0"
        ],
        [
         "20",
         "0.8402813",
         "0.14983107",
         "0.009887646",
         "-1"
        ],
        [
         "21",
         "0.030379346",
         "0.8730065",
         "0.096614115",
         "0"
        ],
        [
         "22",
         "0.030379346",
         "0.8730065",
         "0.096614115",
         "0"
        ],
        [
         "23",
         "0.018895626",
         "0.33335274",
         "0.6477516",
         "1"
        ],
        [
         "24",
         "0.82537484",
         "0.15701947",
         "0.017605748",
         "-1"
        ],
        [
         "25",
         "0.07090367",
         "0.81928056",
         "0.10981578",
         "0"
        ],
        [
         "26",
         "0.82537484",
         "0.15701947",
         "0.017605748",
         "-1"
        ],
        [
         "27",
         "0.7306188",
         "0.22752276",
         "0.041858543",
         "-1"
        ],
        [
         "28",
         "0.7306188",
         "0.22752276",
         "0.041858543",
         "-1"
        ],
        [
         "29",
         "0.7306188",
         "0.22752276",
         "0.041858543",
         "-1"
        ],
        [
         "30",
         "0.70109814",
         "0.26678357",
         "0.032118287",
         "-1"
        ],
        [
         "31",
         "0.3890696",
         "0.57789564",
         "0.033034742",
         "0"
        ],
        [
         "32",
         "0.3143154",
         "0.57823396",
         "0.10745067",
         "0"
        ],
        [
         "33",
         "0.045704044",
         "0.31949887",
         "0.6347971",
         "1"
        ],
        [
         "34",
         "0.11790434",
         "0.85761875",
         "0.024476985",
         "0"
        ],
        [
         "35",
         "0.035174347",
         "0.78833514",
         "0.17649058",
         "0"
        ],
        [
         "36",
         "0.25194284",
         "0.7315013",
         "0.016555863",
         "0"
        ],
        [
         "37",
         "0.0069329673",
         "0.37663656",
         "0.61643046",
         "1"
        ],
        [
         "38",
         "0.06708217",
         "0.8520411",
         "0.08087672",
         "0"
        ],
        [
         "39",
         "0.09083499",
         "0.71665657",
         "0.19250838",
         "0"
        ],
        [
         "40",
         "0.02561557",
         "0.9032297",
         "0.07115462",
         "0"
        ],
        [
         "41",
         "0.026771361",
         "0.9401043",
         "0.033124395",
         "0"
        ],
        [
         "42",
         "0.19207166",
         "0.6900269",
         "0.11790142",
         "0"
        ],
        [
         "43",
         "0.1366482",
         "0.8119187",
         "0.051433153",
         "0"
        ],
        [
         "44",
         "0.027382888",
         "0.12111697",
         "0.85150015",
         "1"
        ],
        [
         "45",
         "0.18109283",
         "0.758185",
         "0.060722128",
         "0"
        ],
        [
         "46",
         "0.77313733",
         "0.21740241",
         "0.009460282",
         "-1"
        ],
        [
         "47",
         "0.09788498",
         "0.78613365",
         "0.11598138",
         "0"
        ],
        [
         "48",
         "0.13896193",
         "0.842116",
         "0.018922066",
         "0"
        ],
        [
         "49",
         "0.37587315",
         "0.5985985",
         "0.025528334",
         "0"
        ]
       ],
       "shape": {
        "columns": 4,
        "rows": 1297
       }
      },
      "text/html": [
       "<div>\n",
       "<style scoped>\n",
       "    .dataframe tbody tr th:only-of-type {\n",
       "        vertical-align: middle;\n",
       "    }\n",
       "\n",
       "    .dataframe tbody tr th {\n",
       "        vertical-align: top;\n",
       "    }\n",
       "\n",
       "    .dataframe thead th {\n",
       "        text-align: right;\n",
       "    }\n",
       "</style>\n",
       "<table border=\"1\" class=\"dataframe\">\n",
       "  <thead>\n",
       "    <tr style=\"text-align: right;\">\n",
       "      <th></th>\n",
       "      <th>negative</th>\n",
       "      <th>neutral</th>\n",
       "      <th>positive</th>\n",
       "      <th>label</th>\n",
       "    </tr>\n",
       "  </thead>\n",
       "  <tbody>\n",
       "    <tr>\n",
       "      <th>0</th>\n",
       "      <td>0.066079</td>\n",
       "      <td>0.822169</td>\n",
       "      <td>0.111751</td>\n",
       "      <td>0</td>\n",
       "    </tr>\n",
       "    <tr>\n",
       "      <th>1</th>\n",
       "      <td>0.155602</td>\n",
       "      <td>0.613484</td>\n",
       "      <td>0.230913</td>\n",
       "      <td>0</td>\n",
       "    </tr>\n",
       "    <tr>\n",
       "      <th>2</th>\n",
       "      <td>0.825649</td>\n",
       "      <td>0.166140</td>\n",
       "      <td>0.008211</td>\n",
       "      <td>-1</td>\n",
       "    </tr>\n",
       "    <tr>\n",
       "      <th>3</th>\n",
       "      <td>0.020895</td>\n",
       "      <td>0.374968</td>\n",
       "      <td>0.604137</td>\n",
       "      <td>1</td>\n",
       "    </tr>\n",
       "    <tr>\n",
       "      <th>4</th>\n",
       "      <td>0.477977</td>\n",
       "      <td>0.510434</td>\n",
       "      <td>0.011589</td>\n",
       "      <td>0</td>\n",
       "    </tr>\n",
       "    <tr>\n",
       "      <th>...</th>\n",
       "      <td>...</td>\n",
       "      <td>...</td>\n",
       "      <td>...</td>\n",
       "      <td>...</td>\n",
       "    </tr>\n",
       "    <tr>\n",
       "      <th>1292</th>\n",
       "      <td>0.074475</td>\n",
       "      <td>0.533802</td>\n",
       "      <td>0.391723</td>\n",
       "      <td>0</td>\n",
       "    </tr>\n",
       "    <tr>\n",
       "      <th>1293</th>\n",
       "      <td>0.431309</td>\n",
       "      <td>0.473081</td>\n",
       "      <td>0.095611</td>\n",
       "      <td>0</td>\n",
       "    </tr>\n",
       "    <tr>\n",
       "      <th>1294</th>\n",
       "      <td>0.006481</td>\n",
       "      <td>0.099670</td>\n",
       "      <td>0.893849</td>\n",
       "      <td>1</td>\n",
       "    </tr>\n",
       "    <tr>\n",
       "      <th>1295</th>\n",
       "      <td>0.018583</td>\n",
       "      <td>0.301102</td>\n",
       "      <td>0.680314</td>\n",
       "      <td>1</td>\n",
       "    </tr>\n",
       "    <tr>\n",
       "      <th>1296</th>\n",
       "      <td>0.029244</td>\n",
       "      <td>0.520648</td>\n",
       "      <td>0.450108</td>\n",
       "      <td>0</td>\n",
       "    </tr>\n",
       "  </tbody>\n",
       "</table>\n",
       "<p>1297 rows × 4 columns</p>\n",
       "</div>"
      ],
      "text/plain": [
       "      negative   neutral  positive  label\n",
       "0     0.066079  0.822169  0.111751      0\n",
       "1     0.155602  0.613484  0.230913      0\n",
       "2     0.825649  0.166140  0.008211     -1\n",
       "3     0.020895  0.374968  0.604137      1\n",
       "4     0.477977  0.510434  0.011589      0\n",
       "...        ...       ...       ...    ...\n",
       "1292  0.074475  0.533802  0.391723      0\n",
       "1293  0.431309  0.473081  0.095611      0\n",
       "1294  0.006481  0.099670  0.893849      1\n",
       "1295  0.018583  0.301102  0.680314      1\n",
       "1296  0.029244  0.520648  0.450108      0\n",
       "\n",
       "[1297 rows x 4 columns]"
      ]
     },
     "execution_count": 212,
     "metadata": {},
     "output_type": "execute_result"
    }
   ],
   "source": [
    "score_roberta"
   ]
  },
  {
   "cell_type": "markdown",
   "metadata": {},
   "source": [
    "### Vader"
   ]
  },
  {
   "cell_type": "code",
   "execution_count": 213,
   "metadata": {},
   "outputs": [],
   "source": [
    "from vaderSentiment.vaderSentiment import SentimentIntensityAnalyzer\n",
    "analyzer = SentimentIntensityAnalyzer()\n",
    "sentiment = []\n",
    "for sentence in sentence_arr['text']:\n",
    "    vs = analyzer.polarity_scores(sentence)\n",
    "    sentiment.append(vs)"
   ]
  },
  {
   "cell_type": "code",
   "execution_count": 214,
   "metadata": {},
   "outputs": [],
   "source": [
    "score_vader = pd.DataFrame(sentiment)\n",
    "score_vader['3class_vad'] = score_vader['compound'].apply(lambda x: 1 if x >= 0.05 else (-1 if x <= -0.05 else 0))\n",
    "score_vader['bin1_vad'] = score_vader['compound'].apply(lambda x: 1 if x >= 0 else  0)\n",
    "score_vader['bin2_vad'] = score_vader['compound'].apply(lambda x: 1 if x > 0 else  0)\n",
    "#score_vader['label'].to_csv(\"score_vader.csv\")\n",
    "# 0 neutral, 1 negative, 2 positive"
   ]
  },
  {
   "cell_type": "code",
   "execution_count": 215,
   "metadata": {},
   "outputs": [
    {
     "data": {
      "application/vnd.microsoft.datawrangler.viewer.v0+json": {
       "columns": [
        {
         "name": "index",
         "rawType": "int64",
         "type": "integer"
        },
        {
         "name": "neg",
         "rawType": "float64",
         "type": "float"
        },
        {
         "name": "neu",
         "rawType": "float64",
         "type": "float"
        },
        {
         "name": "pos",
         "rawType": "float64",
         "type": "float"
        },
        {
         "name": "compound",
         "rawType": "float64",
         "type": "float"
        },
        {
         "name": "3class_vad",
         "rawType": "int64",
         "type": "integer"
        },
        {
         "name": "bin1_vad",
         "rawType": "int64",
         "type": "integer"
        },
        {
         "name": "bin2_vad",
         "rawType": "int64",
         "type": "integer"
        }
       ],
       "ref": "4c70dac8-b302-4f2d-b98b-af669dda77f7",
       "rows": [
        [
         "0",
         "0.0",
         "1.0",
         "0.0",
         "0.0",
         "0",
         "1",
         "0"
        ],
        [
         "1",
         "0.197",
         "0.803",
         "0.0",
         "-0.6602",
         "-1",
         "0",
         "0"
        ],
        [
         "2",
         "0.14",
         "0.86",
         "0.0",
         "-0.4767",
         "-1",
         "0",
         "0"
        ],
        [
         "3",
         "0.0",
         "1.0",
         "0.0",
         "0.0",
         "0",
         "1",
         "0"
        ],
        [
         "4",
         "0.146",
         "0.854",
         "0.0",
         "-0.2235",
         "-1",
         "0",
         "0"
        ],
        [
         "5",
         "0.0",
         "0.738",
         "0.262",
         "0.5994",
         "1",
         "1",
         "1"
        ],
        [
         "6",
         "0.0",
         "1.0",
         "0.0",
         "0.0",
         "0",
         "1",
         "0"
        ],
        [
         "7",
         "0.135",
         "0.71",
         "0.155",
         "0.0772",
         "1",
         "1",
         "1"
        ],
        [
         "8",
         "0.0",
         "1.0",
         "0.0",
         "0.0",
         "0",
         "1",
         "0"
        ],
        [
         "9",
         "0.0",
         "1.0",
         "0.0",
         "0.0",
         "0",
         "1",
         "0"
        ],
        [
         "10",
         "0.0",
         "1.0",
         "0.0",
         "0.0",
         "0",
         "1",
         "0"
        ],
        [
         "11",
         "0.0",
         "1.0",
         "0.0",
         "0.0",
         "0",
         "1",
         "0"
        ],
        [
         "12",
         "0.402",
         "0.598",
         "0.0",
         "-0.5216",
         "-1",
         "0",
         "0"
        ],
        [
         "13",
         "0.0",
         "1.0",
         "0.0",
         "0.0",
         "0",
         "1",
         "0"
        ],
        [
         "14",
         "0.0",
         "1.0",
         "0.0",
         "0.0",
         "0",
         "1",
         "0"
        ],
        [
         "15",
         "0.0",
         "1.0",
         "0.0",
         "0.0",
         "0",
         "1",
         "0"
        ],
        [
         "16",
         "0.0",
         "1.0",
         "0.0",
         "0.0",
         "0",
         "1",
         "0"
        ],
        [
         "17",
         "0.0",
         "0.476",
         "0.524",
         "0.5106",
         "1",
         "1",
         "1"
        ],
        [
         "18",
         "0.0",
         "0.233",
         "0.767",
         "0.5106",
         "1",
         "1",
         "1"
        ],
        [
         "19",
         "0.0",
         "1.0",
         "0.0",
         "0.0",
         "0",
         "1",
         "0"
        ],
        [
         "20",
         "0.31",
         "0.69",
         "0.0",
         "-0.4019",
         "-1",
         "0",
         "0"
        ],
        [
         "21",
         "0.0",
         "1.0",
         "0.0",
         "0.0",
         "0",
         "1",
         "0"
        ],
        [
         "22",
         "0.0",
         "1.0",
         "0.0",
         "0.0",
         "0",
         "1",
         "0"
        ],
        [
         "23",
         "0.0",
         "1.0",
         "0.0",
         "0.0",
         "0",
         "1",
         "0"
        ],
        [
         "24",
         "0.398",
         "0.602",
         "0.0",
         "-0.5106",
         "-1",
         "0",
         "0"
        ],
        [
         "25",
         "0.0",
         "1.0",
         "0.0",
         "0.0",
         "0",
         "1",
         "0"
        ],
        [
         "26",
         "0.398",
         "0.602",
         "0.0",
         "-0.5106",
         "-1",
         "0",
         "0"
        ],
        [
         "27",
         "0.545",
         "0.455",
         "0.0",
         "-0.34",
         "-1",
         "0",
         "0"
        ],
        [
         "28",
         "0.545",
         "0.455",
         "0.0",
         "-0.34",
         "-1",
         "0",
         "0"
        ],
        [
         "29",
         "0.545",
         "0.455",
         "0.0",
         "-0.34",
         "-1",
         "0",
         "0"
        ],
        [
         "30",
         "0.444",
         "0.556",
         "0.0",
         "-0.34",
         "-1",
         "0",
         "0"
        ],
        [
         "31",
         "0.0",
         "1.0",
         "0.0",
         "0.0",
         "0",
         "1",
         "0"
        ],
        [
         "32",
         "0.0",
         "1.0",
         "0.0",
         "0.0",
         "0",
         "1",
         "0"
        ],
        [
         "33",
         "0.0",
         "1.0",
         "0.0",
         "0.0",
         "0",
         "1",
         "0"
        ],
        [
         "34",
         "0.0",
         "1.0",
         "0.0",
         "0.0",
         "0",
         "1",
         "0"
        ],
        [
         "35",
         "0.0",
         "1.0",
         "0.0",
         "0.0",
         "0",
         "1",
         "0"
        ],
        [
         "36",
         "0.0",
         "1.0",
         "0.0",
         "0.0",
         "0",
         "1",
         "0"
        ],
        [
         "37",
         "0.0",
         "0.597",
         "0.403",
         "0.6597",
         "1",
         "1",
         "1"
        ],
        [
         "38",
         "0.0",
         "1.0",
         "0.0",
         "0.0",
         "0",
         "1",
         "0"
        ],
        [
         "39",
         "0.0",
         "1.0",
         "0.0",
         "0.0",
         "0",
         "1",
         "0"
        ],
        [
         "40",
         "0.0",
         "1.0",
         "0.0",
         "0.0",
         "0",
         "1",
         "0"
        ],
        [
         "41",
         "0.0",
         "1.0",
         "0.0",
         "0.0",
         "0",
         "1",
         "0"
        ],
        [
         "42",
         "0.0",
         "0.806",
         "0.194",
         "0.3412",
         "1",
         "1",
         "1"
        ],
        [
         "43",
         "0.0",
         "1.0",
         "0.0",
         "0.0",
         "0",
         "1",
         "0"
        ],
        [
         "44",
         "0.0",
         "0.593",
         "0.407",
         "0.4101",
         "1",
         "1",
         "1"
        ],
        [
         "45",
         "0.0",
         "1.0",
         "0.0",
         "0.0",
         "0",
         "1",
         "0"
        ],
        [
         "46",
         "0.239",
         "0.761",
         "0.0",
         "-0.296",
         "-1",
         "0",
         "0"
        ],
        [
         "47",
         "0.0",
         "0.444",
         "0.556",
         "0.6124",
         "1",
         "1",
         "1"
        ],
        [
         "48",
         "0.0",
         "1.0",
         "0.0",
         "0.0",
         "0",
         "1",
         "0"
        ],
        [
         "49",
         "0.0",
         "1.0",
         "0.0",
         "0.0",
         "0",
         "1",
         "0"
        ]
       ],
       "shape": {
        "columns": 7,
        "rows": 1297
       }
      },
      "text/html": [
       "<div>\n",
       "<style scoped>\n",
       "    .dataframe tbody tr th:only-of-type {\n",
       "        vertical-align: middle;\n",
       "    }\n",
       "\n",
       "    .dataframe tbody tr th {\n",
       "        vertical-align: top;\n",
       "    }\n",
       "\n",
       "    .dataframe thead th {\n",
       "        text-align: right;\n",
       "    }\n",
       "</style>\n",
       "<table border=\"1\" class=\"dataframe\">\n",
       "  <thead>\n",
       "    <tr style=\"text-align: right;\">\n",
       "      <th></th>\n",
       "      <th>neg</th>\n",
       "      <th>neu</th>\n",
       "      <th>pos</th>\n",
       "      <th>compound</th>\n",
       "      <th>3class_vad</th>\n",
       "      <th>bin1_vad</th>\n",
       "      <th>bin2_vad</th>\n",
       "    </tr>\n",
       "  </thead>\n",
       "  <tbody>\n",
       "    <tr>\n",
       "      <th>0</th>\n",
       "      <td>0.000</td>\n",
       "      <td>1.000</td>\n",
       "      <td>0.000</td>\n",
       "      <td>0.0000</td>\n",
       "      <td>0</td>\n",
       "      <td>1</td>\n",
       "      <td>0</td>\n",
       "    </tr>\n",
       "    <tr>\n",
       "      <th>1</th>\n",
       "      <td>0.197</td>\n",
       "      <td>0.803</td>\n",
       "      <td>0.000</td>\n",
       "      <td>-0.6602</td>\n",
       "      <td>-1</td>\n",
       "      <td>0</td>\n",
       "      <td>0</td>\n",
       "    </tr>\n",
       "    <tr>\n",
       "      <th>2</th>\n",
       "      <td>0.140</td>\n",
       "      <td>0.860</td>\n",
       "      <td>0.000</td>\n",
       "      <td>-0.4767</td>\n",
       "      <td>-1</td>\n",
       "      <td>0</td>\n",
       "      <td>0</td>\n",
       "    </tr>\n",
       "    <tr>\n",
       "      <th>3</th>\n",
       "      <td>0.000</td>\n",
       "      <td>1.000</td>\n",
       "      <td>0.000</td>\n",
       "      <td>0.0000</td>\n",
       "      <td>0</td>\n",
       "      <td>1</td>\n",
       "      <td>0</td>\n",
       "    </tr>\n",
       "    <tr>\n",
       "      <th>4</th>\n",
       "      <td>0.146</td>\n",
       "      <td>0.854</td>\n",
       "      <td>0.000</td>\n",
       "      <td>-0.2235</td>\n",
       "      <td>-1</td>\n",
       "      <td>0</td>\n",
       "      <td>0</td>\n",
       "    </tr>\n",
       "    <tr>\n",
       "      <th>...</th>\n",
       "      <td>...</td>\n",
       "      <td>...</td>\n",
       "      <td>...</td>\n",
       "      <td>...</td>\n",
       "      <td>...</td>\n",
       "      <td>...</td>\n",
       "      <td>...</td>\n",
       "    </tr>\n",
       "    <tr>\n",
       "      <th>1292</th>\n",
       "      <td>0.000</td>\n",
       "      <td>0.656</td>\n",
       "      <td>0.344</td>\n",
       "      <td>0.6369</td>\n",
       "      <td>1</td>\n",
       "      <td>1</td>\n",
       "      <td>1</td>\n",
       "    </tr>\n",
       "    <tr>\n",
       "      <th>1293</th>\n",
       "      <td>0.154</td>\n",
       "      <td>0.604</td>\n",
       "      <td>0.242</td>\n",
       "      <td>0.3182</td>\n",
       "      <td>1</td>\n",
       "      <td>1</td>\n",
       "      <td>1</td>\n",
       "    </tr>\n",
       "    <tr>\n",
       "      <th>1294</th>\n",
       "      <td>0.000</td>\n",
       "      <td>0.714</td>\n",
       "      <td>0.286</td>\n",
       "      <td>0.4215</td>\n",
       "      <td>1</td>\n",
       "      <td>1</td>\n",
       "      <td>1</td>\n",
       "    </tr>\n",
       "    <tr>\n",
       "      <th>1295</th>\n",
       "      <td>0.000</td>\n",
       "      <td>0.397</td>\n",
       "      <td>0.603</td>\n",
       "      <td>0.8442</td>\n",
       "      <td>1</td>\n",
       "      <td>1</td>\n",
       "      <td>1</td>\n",
       "    </tr>\n",
       "    <tr>\n",
       "      <th>1296</th>\n",
       "      <td>0.000</td>\n",
       "      <td>1.000</td>\n",
       "      <td>0.000</td>\n",
       "      <td>0.0000</td>\n",
       "      <td>0</td>\n",
       "      <td>1</td>\n",
       "      <td>0</td>\n",
       "    </tr>\n",
       "  </tbody>\n",
       "</table>\n",
       "<p>1297 rows × 7 columns</p>\n",
       "</div>"
      ],
      "text/plain": [
       "        neg    neu    pos  compound  3class_vad  bin1_vad  bin2_vad\n",
       "0     0.000  1.000  0.000    0.0000           0         1         0\n",
       "1     0.197  0.803  0.000   -0.6602          -1         0         0\n",
       "2     0.140  0.860  0.000   -0.4767          -1         0         0\n",
       "3     0.000  1.000  0.000    0.0000           0         1         0\n",
       "4     0.146  0.854  0.000   -0.2235          -1         0         0\n",
       "...     ...    ...    ...       ...         ...       ...       ...\n",
       "1292  0.000  0.656  0.344    0.6369           1         1         1\n",
       "1293  0.154  0.604  0.242    0.3182           1         1         1\n",
       "1294  0.000  0.714  0.286    0.4215           1         1         1\n",
       "1295  0.000  0.397  0.603    0.8442           1         1         1\n",
       "1296  0.000  1.000  0.000    0.0000           0         1         0\n",
       "\n",
       "[1297 rows x 7 columns]"
      ]
     },
     "execution_count": 215,
     "metadata": {},
     "output_type": "execute_result"
    }
   ],
   "source": [
    "score_vader"
   ]
  },
  {
   "cell_type": "markdown",
   "metadata": {},
   "source": [
    "### textblob"
   ]
  },
  {
   "cell_type": "code",
   "execution_count": 216,
   "metadata": {},
   "outputs": [],
   "source": [
    "from textblob import TextBlob\n",
    "from textblob.sentiments import NaiveBayesAnalyzer\n",
    "sentiment_tb = []\n",
    "sentiment_textblob = pd.DataFrame()\n",
    "for sentence in sentence_arr['text']:\n",
    "    object_ = TextBlob(sentence)\n",
    "    sentiment_tb.append(object_.sentiment.polarity)\n",
    "sentiment_textblob['compond'] = pd.DataFrame(sentiment_tb)"
   ]
  },
  {
   "cell_type": "code",
   "execution_count": 217,
   "metadata": {},
   "outputs": [],
   "source": [
    "sentiment_textblob['3class_tb'] = sentiment_textblob['compond'].apply(lambda x: 1 if x >= 0.05 else (-1 if x <= -0.05 else 0))\n",
    "sentiment_textblob['bin1_tb'] = sentiment_textblob['compond'].apply(lambda x: 1 if x >= 0 else  0)\n",
    "sentiment_textblob['bin2_tb'] = sentiment_textblob['compond'].apply(lambda x: 1 if x > 0 else  0)\n",
    "#score_textblob.to_csv(\"score_textblob.csv\")"
   ]
  },
  {
   "cell_type": "code",
   "execution_count": 218,
   "metadata": {},
   "outputs": [
    {
     "data": {
      "application/vnd.microsoft.datawrangler.viewer.v0+json": {
       "columns": [
        {
         "name": "index",
         "rawType": "int64",
         "type": "integer"
        },
        {
         "name": "3class_tb",
         "rawType": "int64",
         "type": "integer"
        },
        {
         "name": "bin1_tb",
         "rawType": "int64",
         "type": "integer"
        },
        {
         "name": "bin2_tb",
         "rawType": "int64",
         "type": "integer"
        }
       ],
       "ref": "eb998e8e-bef8-4a74-9993-a40350ff5ab7",
       "rows": [
        [
         "0",
         "0",
         "1",
         "0"
        ],
        [
         "1",
         "1",
         "1",
         "1"
        ],
        [
         "2",
         "-1",
         "0",
         "0"
        ],
        [
         "3",
         "0",
         "1",
         "0"
        ],
        [
         "4",
         "0",
         "1",
         "0"
        ],
        [
         "5",
         "1",
         "1",
         "1"
        ],
        [
         "6",
         "0",
         "1",
         "1"
        ],
        [
         "7",
         "1",
         "1",
         "1"
        ],
        [
         "8",
         "0",
         "1",
         "0"
        ],
        [
         "9",
         "0",
         "1",
         "0"
        ],
        [
         "10",
         "0",
         "1",
         "0"
        ],
        [
         "11",
         "0",
         "1",
         "0"
        ],
        [
         "12",
         "-1",
         "0",
         "0"
        ],
        [
         "13",
         "0",
         "1",
         "0"
        ],
        [
         "14",
         "0",
         "1",
         "0"
        ],
        [
         "15",
         "0",
         "1",
         "0"
        ],
        [
         "16",
         "0",
         "1",
         "0"
        ],
        [
         "17",
         "1",
         "1",
         "1"
        ],
        [
         "18",
         "1",
         "1",
         "1"
        ],
        [
         "19",
         "0",
         "1",
         "0"
        ],
        [
         "20",
         "0",
         "1",
         "0"
        ],
        [
         "21",
         "0",
         "1",
         "0"
        ],
        [
         "22",
         "0",
         "1",
         "0"
        ],
        [
         "23",
         "0",
         "1",
         "0"
        ],
        [
         "24",
         "0",
         "1",
         "0"
        ],
        [
         "25",
         "0",
         "1",
         "0"
        ],
        [
         "26",
         "0",
         "1",
         "0"
        ],
        [
         "27",
         "0",
         "1",
         "0"
        ],
        [
         "28",
         "0",
         "1",
         "0"
        ],
        [
         "29",
         "0",
         "1",
         "0"
        ],
        [
         "30",
         "0",
         "1",
         "0"
        ],
        [
         "31",
         "0",
         "1",
         "0"
        ],
        [
         "32",
         "0",
         "1",
         "0"
        ],
        [
         "33",
         "1",
         "1",
         "1"
        ],
        [
         "34",
         "0",
         "1",
         "0"
        ],
        [
         "35",
         "0",
         "1",
         "0"
        ],
        [
         "36",
         "0",
         "1",
         "0"
        ],
        [
         "37",
         "0",
         "1",
         "0"
        ],
        [
         "38",
         "0",
         "1",
         "1"
        ],
        [
         "39",
         "0",
         "1",
         "0"
        ],
        [
         "40",
         "0",
         "1",
         "0"
        ],
        [
         "41",
         "0",
         "1",
         "0"
        ],
        [
         "42",
         "-1",
         "0",
         "0"
        ],
        [
         "43",
         "0",
         "1",
         "0"
        ],
        [
         "44",
         "0",
         "1",
         "0"
        ],
        [
         "45",
         "0",
         "1",
         "0"
        ],
        [
         "46",
         "-1",
         "0",
         "0"
        ],
        [
         "47",
         "0",
         "1",
         "0"
        ],
        [
         "48",
         "-1",
         "0",
         "0"
        ],
        [
         "49",
         "-1",
         "0",
         "0"
        ]
       ],
       "shape": {
        "columns": 3,
        "rows": 1297
       }
      },
      "text/html": [
       "<div>\n",
       "<style scoped>\n",
       "    .dataframe tbody tr th:only-of-type {\n",
       "        vertical-align: middle;\n",
       "    }\n",
       "\n",
       "    .dataframe tbody tr th {\n",
       "        vertical-align: top;\n",
       "    }\n",
       "\n",
       "    .dataframe thead th {\n",
       "        text-align: right;\n",
       "    }\n",
       "</style>\n",
       "<table border=\"1\" class=\"dataframe\">\n",
       "  <thead>\n",
       "    <tr style=\"text-align: right;\">\n",
       "      <th></th>\n",
       "      <th>3class_tb</th>\n",
       "      <th>bin1_tb</th>\n",
       "      <th>bin2_tb</th>\n",
       "    </tr>\n",
       "  </thead>\n",
       "  <tbody>\n",
       "    <tr>\n",
       "      <th>0</th>\n",
       "      <td>0</td>\n",
       "      <td>1</td>\n",
       "      <td>0</td>\n",
       "    </tr>\n",
       "    <tr>\n",
       "      <th>1</th>\n",
       "      <td>1</td>\n",
       "      <td>1</td>\n",
       "      <td>1</td>\n",
       "    </tr>\n",
       "    <tr>\n",
       "      <th>2</th>\n",
       "      <td>-1</td>\n",
       "      <td>0</td>\n",
       "      <td>0</td>\n",
       "    </tr>\n",
       "    <tr>\n",
       "      <th>3</th>\n",
       "      <td>0</td>\n",
       "      <td>1</td>\n",
       "      <td>0</td>\n",
       "    </tr>\n",
       "    <tr>\n",
       "      <th>4</th>\n",
       "      <td>0</td>\n",
       "      <td>1</td>\n",
       "      <td>0</td>\n",
       "    </tr>\n",
       "    <tr>\n",
       "      <th>...</th>\n",
       "      <td>...</td>\n",
       "      <td>...</td>\n",
       "      <td>...</td>\n",
       "    </tr>\n",
       "    <tr>\n",
       "      <th>1292</th>\n",
       "      <td>1</td>\n",
       "      <td>1</td>\n",
       "      <td>1</td>\n",
       "    </tr>\n",
       "    <tr>\n",
       "      <th>1293</th>\n",
       "      <td>0</td>\n",
       "      <td>1</td>\n",
       "      <td>0</td>\n",
       "    </tr>\n",
       "    <tr>\n",
       "      <th>1294</th>\n",
       "      <td>1</td>\n",
       "      <td>1</td>\n",
       "      <td>1</td>\n",
       "    </tr>\n",
       "    <tr>\n",
       "      <th>1295</th>\n",
       "      <td>1</td>\n",
       "      <td>1</td>\n",
       "      <td>1</td>\n",
       "    </tr>\n",
       "    <tr>\n",
       "      <th>1296</th>\n",
       "      <td>1</td>\n",
       "      <td>1</td>\n",
       "      <td>1</td>\n",
       "    </tr>\n",
       "  </tbody>\n",
       "</table>\n",
       "<p>1297 rows × 3 columns</p>\n",
       "</div>"
      ],
      "text/plain": [
       "      3class_tb  bin1_tb  bin2_tb\n",
       "0             0        1        0\n",
       "1             1        1        1\n",
       "2            -1        0        0\n",
       "3             0        1        0\n",
       "4             0        1        0\n",
       "...         ...      ...      ...\n",
       "1292          1        1        1\n",
       "1293          0        1        0\n",
       "1294          1        1        1\n",
       "1295          1        1        1\n",
       "1296          1        1        1\n",
       "\n",
       "[1297 rows x 3 columns]"
      ]
     },
     "execution_count": 218,
     "metadata": {},
     "output_type": "execute_result"
    }
   ],
   "source": [
    "sentiment_textblob.iloc[:,1:]"
   ]
  },
  {
   "cell_type": "markdown",
   "metadata": {},
   "source": [
    "### export data"
   ]
  },
  {
   "cell_type": "code",
   "execution_count": 219,
   "metadata": {},
   "outputs": [
    {
     "data": {
      "application/vnd.microsoft.datawrangler.viewer.v0+json": {
       "columns": [
        {
         "name": "index",
         "rawType": "int64",
         "type": "integer"
        },
        {
         "name": "start_time",
         "rawType": "float64",
         "type": "float"
        },
        {
         "name": "end_time",
         "rawType": "float64",
         "type": "float"
        },
        {
         "name": "sentence",
         "rawType": "object",
         "type": "string"
        },
        {
         "name": "3class_vad",
         "rawType": "int64",
         "type": "integer"
        },
        {
         "name": "bin1_vad",
         "rawType": "int64",
         "type": "integer"
        },
        {
         "name": "bin2_vad",
         "rawType": "int64",
         "type": "integer"
        },
        {
         "name": "3class_tb",
         "rawType": "int64",
         "type": "integer"
        },
        {
         "name": "bin1_tb",
         "rawType": "int64",
         "type": "integer"
        },
        {
         "name": "bin2_tb",
         "rawType": "int64",
         "type": "integer"
        },
        {
         "name": "roberta",
         "rawType": "int64",
         "type": "integer"
        },
        {
         "name": "distBERT",
         "rawType": "int64",
         "type": "integer"
        }
       ],
       "ref": "631ab071-7271-4ebf-869e-f90b816fe426",
       "rows": [
        [
         "0",
         "61.96",
         "65.16",
         "This is a story of boy meets girl.",
         "0",
         "1",
         "0",
         "0",
         "1",
         "0",
         "0",
         "1"
        ],
        [
         "1",
         "69.28",
         "77.56",
         "The boy, Tom Hansen of Margate, New Jersey grew up believing that he'd never truly be happy until the day he met \"the one.\"",
         "-1",
         "0",
         "0",
         "1",
         "1",
         "1",
         "0",
         "0"
        ],
        [
         "2",
         "77.68",
         "85.08",
         "This belief stemmed from early exposure to sad British pop music and a total misreading of the movie The Graduate.",
         "-1",
         "0",
         "0",
         "-1",
         "0",
         "0",
         "-1",
         "0"
        ],
        [
         "3",
         "85.2",
         "87.4",
         "Elaine! Elaine!",
         "0",
         "1",
         "0",
         "0",
         "1",
         "0",
         "1",
         "1"
        ],
        [
         "4",
         "87.519",
         "92.6",
         "The girl, Summer finn of Shinnecock, Michigan did not share this belief.",
         "-1",
         "0",
         "0",
         "0",
         "1",
         "0",
         "0",
         "0"
        ],
        [
         "5",
         "92.719",
         "98.32",
         "Since the disintegration of her parents' marriage she'd only loved two things.",
         "1",
         "1",
         "1",
         "1",
         "1",
         "1",
         "0",
         "0"
        ],
        [
         "6",
         "98.439",
         "101.4",
         "The first was her long, dark hair.",
         "0",
         "1",
         "0",
         "0",
         "1",
         "1",
         "0",
         "1"
        ],
        [
         "7",
         "101.519",
         "106.4",
         "The second was how easily she could cut it off and feel nothing.",
         "1",
         "1",
         "1",
         "1",
         "1",
         "1",
         "0",
         "0"
        ],
        [
         "8",
         "107.439",
         "110.56",
         "Tom meets Summer on January eighth.",
         "0",
         "1",
         "0",
         "0",
         "1",
         "0",
         "0",
         "1"
        ],
        [
         "9",
         "110.68",
         "114.76",
         "He knows almost immediately she's who he's been searching for.",
         "0",
         "1",
         "0",
         "0",
         "1",
         "0",
         "1",
         "1"
        ],
        [
         "10",
         "116.04",
         "119.08",
         "This is a story of boy meets girl.",
         "0",
         "1",
         "0",
         "0",
         "1",
         "0",
         "0",
         "1"
        ],
        [
         "11",
         "120.159",
         "122.12",
         "But you should know up front",
         "0",
         "1",
         "0",
         "0",
         "1",
         "0",
         "0",
         "1"
        ],
        [
         "12",
         "122.239",
         "124.12",
         "this is not a love story.",
         "-1",
         "0",
         "0",
         "-1",
         "0",
         "0",
         "-1",
         "0"
        ],
        [
         "13",
         "129.759",
         "132.84",
         "They made a statue of us",
         "0",
         "1",
         "0",
         "0",
         "1",
         "0",
         "0",
         "1"
        ],
        [
         "14",
         "134.879",
         "138.08",
         "And put it on a mountaintop",
         "0",
         "1",
         "0",
         "0",
         "1",
         "0",
         "0",
         "1"
        ],
        [
         "15",
         "140.159",
         "143.48",
         "Now tourists come and stare at us",
         "0",
         "1",
         "0",
         "0",
         "1",
         "0",
         "0",
         "1"
        ],
        [
         "16",
         "144.759",
         "147.16",
         "Blow bubbles with their gum",
         "0",
         "1",
         "0",
         "0",
         "1",
         "0",
         "0",
         "0"
        ],
        [
         "17",
         "147.28",
         "149.4",
         "Take photographs of fun",
         "1",
         "1",
         "1",
         "1",
         "1",
         "1",
         "1",
         "1"
        ],
        [
         "18",
         "149.52",
         "151.36",
         "Have fun",
         "1",
         "1",
         "1",
         "1",
         "1",
         "1",
         "1",
         "1"
        ],
        [
         "19",
         "155.52",
         "158.88",
         "They'll name a city after us",
         "0",
         "1",
         "0",
         "0",
         "1",
         "0",
         "0",
         "1"
        ],
        [
         "20",
         "160.719",
         "164.36",
         "And later say it's all our fault",
         "-1",
         "0",
         "0",
         "0",
         "1",
         "0",
         "-1",
         "0"
        ],
        [
         "21",
         "166.0",
         "168.56",
         "Then they'll give us a talking to",
         "0",
         "1",
         "0",
         "0",
         "1",
         "0",
         "0",
         "1"
        ],
        [
         "22",
         "168.68",
         "171.12",
         "Then they'll give us a talking to",
         "0",
         "1",
         "0",
         "0",
         "1",
         "0",
         "0",
         "1"
        ],
        [
         "23",
         "171.24",
         "175.08",
         "'Cause they've got years of experience",
         "0",
         "1",
         "0",
         "0",
         "1",
         "0",
         "1",
         "1"
        ],
        [
         "24",
         "178.8",
         "182.0",
         "Living in a den of thieves",
         "-1",
         "0",
         "0",
         "0",
         "1",
         "0",
         "-1",
         "0"
        ],
        [
         "25",
         "182.12",
         "187.16",
         "Rummaging for answers in the pages",
         "0",
         "1",
         "0",
         "0",
         "1",
         "0",
         "0",
         "0"
        ],
        [
         "26",
         "189.719",
         "193.0",
         "Living in a den of thieves",
         "-1",
         "0",
         "0",
         "0",
         "1",
         "0",
         "-1",
         "0"
        ],
        [
         "27",
         "193.12",
         "195.44",
         "And it's contagious",
         "-1",
         "0",
         "0",
         "0",
         "1",
         "0",
         "-1",
         "0"
        ],
        [
         "28",
         "195.56",
         "198.64",
         "And it's contagious",
         "-1",
         "0",
         "0",
         "0",
         "1",
         "0",
         "-1",
         "0"
        ],
        [
         "29",
         "198.759",
         "201.16",
         "And it's contagious",
         "-1",
         "0",
         "0",
         "0",
         "1",
         "0",
         "-1",
         "0"
        ],
        [
         "30",
         "201.28",
         "203.92",
         "And it's contagious _",
         "-1",
         "0",
         "0",
         "0",
         "1",
         "0",
         "-1",
         "0"
        ],
        [
         "31",
         "248.479",
         "250.6",
         "We didn't know who else to call.",
         "0",
         "1",
         "0",
         "0",
         "1",
         "0",
         "0",
         "0"
        ],
        [
         "32",
         "250.719",
         "252.72",
         "it's Amanda Heller all over again.",
         "0",
         "1",
         "0",
         "0",
         "1",
         "0",
         "0",
         "0"
        ],
        [
         "33",
         "252.84",
         "254.64",
         "You did the right thing.",
         "0",
         "1",
         "0",
         "1",
         "1",
         "1",
         "1",
         "1"
        ],
        [
         "34",
         "256.04",
         "259.48",
         "Now, where is he?",
         "0",
         "1",
         "0",
         "0",
         "1",
         "0",
         "0",
         "0"
        ],
        [
         "35",
         "265.04",
         "266.92",
         "Thomas.",
         "0",
         "1",
         "0",
         "0",
         "1",
         "0",
         "0",
         "1"
        ],
        [
         "36",
         "268.079",
         "270.8",
         "Rachel. What are you doing here?",
         "0",
         "1",
         "0",
         "0",
         "1",
         "0",
         "0",
         "1"
        ],
        [
         "37",
         "270.92",
         "273.24",
         "- I'm here to help you. - Help me how?",
         "1",
         "1",
         "1",
         "0",
         "1",
         "0",
         "1",
         "0"
        ],
        [
         "38",
         "273.36",
         "275.48",
         "First, put down the plate.",
         "0",
         "1",
         "0",
         "0",
         "1",
         "1",
         "0",
         "0"
        ],
        [
         "39",
         "277.16",
         "278.76",
         "Drink this.",
         "0",
         "1",
         "0",
         "0",
         "1",
         "0",
         "0",
         "1"
        ],
        [
         "40",
         "280.079",
         "282.12",
         "- What is that? - Vodka.",
         "0",
         "1",
         "0",
         "0",
         "1",
         "0",
         "0",
         "0"
        ],
        [
         "41",
         "282.24",
         "284.36",
         "Um, does Mom know that you're here?",
         "0",
         "1",
         "0",
         "0",
         "1",
         "0",
         "0",
         "1"
        ],
        [
         "42",
         "284.48",
         "287.76",
         "- 'Cause it's probably past ten. - Don't worry about it.",
         "1",
         "1",
         "1",
         "-1",
         "0",
         "0",
         "0",
         "0"
        ],
        [
         "43",
         "287.879",
         "292.28",
         "Just start from the beginning, and tell us what happened.",
         "0",
         "1",
         "0",
         "0",
         "1",
         "0",
         "0",
         "1"
        ],
        [
         "44",
         "292.399",
         "294.92",
         "Things were going so well.",
         "1",
         "1",
         "1",
         "0",
         "1",
         "0",
         "1",
         "1"
        ],
        [
         "45",
         "306.16",
         "308.44",
         "Then what?",
         "0",
         "1",
         "0",
         "0",
         "1",
         "0",
         "0",
         "0"
        ],
        [
         "46",
         "308.56",
         "310.64",
         "I think we should stop seeing each other.",
         "-1",
         "0",
         "0",
         "-1",
         "0",
         "0",
         "-1",
         "0"
        ],
        [
         "47",
         "310.759",
         "312.76",
         "-Just like that? -Just like that.",
         "1",
         "1",
         "1",
         "0",
         "1",
         "0",
         "0",
         "1"
        ],
        [
         "48",
         "312.879",
         "316.52",
         "- Did she say why? - I mean, this thing- what are we doing?",
         "0",
         "1",
         "0",
         "-1",
         "0",
         "0",
         "0",
         "0"
        ],
        [
         "49",
         "316.639",
         "318.6",
         "I mean, is this normal?",
         "0",
         "1",
         "0",
         "-1",
         "0",
         "0",
         "0",
         "0"
        ]
       ],
       "shape": {
        "columns": 11,
        "rows": 1297
       }
      },
      "text/html": [
       "<div>\n",
       "<style scoped>\n",
       "    .dataframe tbody tr th:only-of-type {\n",
       "        vertical-align: middle;\n",
       "    }\n",
       "\n",
       "    .dataframe tbody tr th {\n",
       "        vertical-align: top;\n",
       "    }\n",
       "\n",
       "    .dataframe thead th {\n",
       "        text-align: right;\n",
       "    }\n",
       "</style>\n",
       "<table border=\"1\" class=\"dataframe\">\n",
       "  <thead>\n",
       "    <tr style=\"text-align: right;\">\n",
       "      <th></th>\n",
       "      <th>start_time</th>\n",
       "      <th>end_time</th>\n",
       "      <th>sentence</th>\n",
       "      <th>3class_vad</th>\n",
       "      <th>bin1_vad</th>\n",
       "      <th>bin2_vad</th>\n",
       "      <th>3class_tb</th>\n",
       "      <th>bin1_tb</th>\n",
       "      <th>bin2_tb</th>\n",
       "      <th>roberta</th>\n",
       "      <th>distBERT</th>\n",
       "    </tr>\n",
       "  </thead>\n",
       "  <tbody>\n",
       "    <tr>\n",
       "      <th>0</th>\n",
       "      <td>61.960</td>\n",
       "      <td>65.16</td>\n",
       "      <td>This is a story of boy meets girl.</td>\n",
       "      <td>0</td>\n",
       "      <td>1</td>\n",
       "      <td>0</td>\n",
       "      <td>0</td>\n",
       "      <td>1</td>\n",
       "      <td>0</td>\n",
       "      <td>0</td>\n",
       "      <td>1</td>\n",
       "    </tr>\n",
       "    <tr>\n",
       "      <th>1</th>\n",
       "      <td>69.280</td>\n",
       "      <td>77.56</td>\n",
       "      <td>The boy, Tom Hansen of Margate, New Jersey gre...</td>\n",
       "      <td>-1</td>\n",
       "      <td>0</td>\n",
       "      <td>0</td>\n",
       "      <td>1</td>\n",
       "      <td>1</td>\n",
       "      <td>1</td>\n",
       "      <td>0</td>\n",
       "      <td>0</td>\n",
       "    </tr>\n",
       "    <tr>\n",
       "      <th>2</th>\n",
       "      <td>77.680</td>\n",
       "      <td>85.08</td>\n",
       "      <td>This belief stemmed from early exposure to sad...</td>\n",
       "      <td>-1</td>\n",
       "      <td>0</td>\n",
       "      <td>0</td>\n",
       "      <td>-1</td>\n",
       "      <td>0</td>\n",
       "      <td>0</td>\n",
       "      <td>-1</td>\n",
       "      <td>0</td>\n",
       "    </tr>\n",
       "    <tr>\n",
       "      <th>3</th>\n",
       "      <td>85.200</td>\n",
       "      <td>87.40</td>\n",
       "      <td>Elaine! Elaine!</td>\n",
       "      <td>0</td>\n",
       "      <td>1</td>\n",
       "      <td>0</td>\n",
       "      <td>0</td>\n",
       "      <td>1</td>\n",
       "      <td>0</td>\n",
       "      <td>1</td>\n",
       "      <td>1</td>\n",
       "    </tr>\n",
       "    <tr>\n",
       "      <th>4</th>\n",
       "      <td>87.519</td>\n",
       "      <td>92.60</td>\n",
       "      <td>The girl, Summer finn of Shinnecock, Michigan ...</td>\n",
       "      <td>-1</td>\n",
       "      <td>0</td>\n",
       "      <td>0</td>\n",
       "      <td>0</td>\n",
       "      <td>1</td>\n",
       "      <td>0</td>\n",
       "      <td>0</td>\n",
       "      <td>0</td>\n",
       "    </tr>\n",
       "    <tr>\n",
       "      <th>...</th>\n",
       "      <td>...</td>\n",
       "      <td>...</td>\n",
       "      <td>...</td>\n",
       "      <td>...</td>\n",
       "      <td>...</td>\n",
       "      <td>...</td>\n",
       "      <td>...</td>\n",
       "      <td>...</td>\n",
       "      <td>...</td>\n",
       "      <td>...</td>\n",
       "      <td>...</td>\n",
       "    </tr>\n",
       "    <tr>\n",
       "      <th>1292</th>\n",
       "      <td>5354.960</td>\n",
       "      <td>5358.36</td>\n",
       "      <td>What's this about I figured love would shine t...</td>\n",
       "      <td>1</td>\n",
       "      <td>1</td>\n",
       "      <td>1</td>\n",
       "      <td>1</td>\n",
       "      <td>1</td>\n",
       "      <td>1</td>\n",
       "      <td>0</td>\n",
       "      <td>1</td>\n",
       "    </tr>\n",
       "    <tr>\n",
       "      <th>1293</th>\n",
       "      <td>5358.479</td>\n",
       "      <td>5361.84</td>\n",
       "      <td>We've lost romance This world, its turns will ...</td>\n",
       "      <td>1</td>\n",
       "      <td>1</td>\n",
       "      <td>1</td>\n",
       "      <td>0</td>\n",
       "      <td>1</td>\n",
       "      <td>0</td>\n",
       "      <td>0</td>\n",
       "      <td>1</td>\n",
       "    </tr>\n",
       "    <tr>\n",
       "      <th>1294</th>\n",
       "      <td>5361.960</td>\n",
       "      <td>5365.24</td>\n",
       "      <td>Open your mind Believe it's gonna come true</td>\n",
       "      <td>1</td>\n",
       "      <td>1</td>\n",
       "      <td>1</td>\n",
       "      <td>1</td>\n",
       "      <td>1</td>\n",
       "      <td>1</td>\n",
       "      <td>1</td>\n",
       "      <td>1</td>\n",
       "    </tr>\n",
       "    <tr>\n",
       "      <th>1295</th>\n",
       "      <td>5365.359</td>\n",
       "      <td>5368.84</td>\n",
       "      <td>Keep romance alive and hope she's gonna tell you</td>\n",
       "      <td>1</td>\n",
       "      <td>1</td>\n",
       "      <td>1</td>\n",
       "      <td>1</td>\n",
       "      <td>1</td>\n",
       "      <td>1</td>\n",
       "      <td>1</td>\n",
       "      <td>1</td>\n",
       "    </tr>\n",
       "    <tr>\n",
       "      <th>1296</th>\n",
       "      <td>5368.960</td>\n",
       "      <td>5375.08</td>\n",
       "      <td>She's got you high</td>\n",
       "      <td>0</td>\n",
       "      <td>1</td>\n",
       "      <td>0</td>\n",
       "      <td>1</td>\n",
       "      <td>1</td>\n",
       "      <td>1</td>\n",
       "      <td>0</td>\n",
       "      <td>1</td>\n",
       "    </tr>\n",
       "  </tbody>\n",
       "</table>\n",
       "<p>1297 rows × 11 columns</p>\n",
       "</div>"
      ],
      "text/plain": [
       "      start_time  end_time                                           sentence  \\\n",
       "0         61.960     65.16                 This is a story of boy meets girl.   \n",
       "1         69.280     77.56  The boy, Tom Hansen of Margate, New Jersey gre...   \n",
       "2         77.680     85.08  This belief stemmed from early exposure to sad...   \n",
       "3         85.200     87.40                                    Elaine! Elaine!   \n",
       "4         87.519     92.60  The girl, Summer finn of Shinnecock, Michigan ...   \n",
       "...          ...       ...                                                ...   \n",
       "1292    5354.960   5358.36  What's this about I figured love would shine t...   \n",
       "1293    5358.479   5361.84  We've lost romance This world, its turns will ...   \n",
       "1294    5361.960   5365.24        Open your mind Believe it's gonna come true   \n",
       "1295    5365.359   5368.84   Keep romance alive and hope she's gonna tell you   \n",
       "1296    5368.960   5375.08                                 She's got you high   \n",
       "\n",
       "      3class_vad  bin1_vad  bin2_vad  3class_tb  bin1_tb  bin2_tb  roberta  \\\n",
       "0              0         1         0          0        1        0        0   \n",
       "1             -1         0         0          1        1        1        0   \n",
       "2             -1         0         0         -1        0        0       -1   \n",
       "3              0         1         0          0        1        0        1   \n",
       "4             -1         0         0          0        1        0        0   \n",
       "...          ...       ...       ...        ...      ...      ...      ...   \n",
       "1292           1         1         1          1        1        1        0   \n",
       "1293           1         1         1          0        1        0        0   \n",
       "1294           1         1         1          1        1        1        1   \n",
       "1295           1         1         1          1        1        1        1   \n",
       "1296           0         1         0          1        1        1        0   \n",
       "\n",
       "      distBERT  \n",
       "0            1  \n",
       "1            0  \n",
       "2            0  \n",
       "3            1  \n",
       "4            0  \n",
       "...        ...  \n",
       "1292         1  \n",
       "1293         1  \n",
       "1294         1  \n",
       "1295         1  \n",
       "1296         1  \n",
       "\n",
       "[1297 rows x 11 columns]"
      ]
     },
     "execution_count": 219,
     "metadata": {},
     "output_type": "execute_result"
    }
   ],
   "source": [
    "score_all = score_vader.iloc[:,4:]\n",
    "score_all = pd.concat((score_all,sentiment_textblob.iloc[:,1:]),axis =1)\n",
    "score_all['roberta'] = score_roberta['label']\n",
    "score_all['distBERT'] = all_class_disBERT\n",
    "score_all.insert(0, 'sentence', sentence_arr['text'])\n",
    "score_all.insert(0, 'start_time', sentence_arr['start_time'])\n",
    "score_all.insert(1, 'end_time', sentence_arr['end_time'])\n",
    "score_all"
   ]
  },
  {
   "cell_type": "code",
   "execution_count": 220,
   "metadata": {},
   "outputs": [],
   "source": [
    "import os\n",
    "out_name= \"500_days_of_summer_new\"\n",
    "out_path = \"./image_output/\"\n",
    "csv_path = './csv_output/'\n",
    "#score_all.to_csv(os.path.join(csv_path,out_name)+ '.csv')"
   ]
  },
  {
   "cell_type": "code",
   "execution_count": 221,
   "metadata": {},
   "outputs": [
    {
     "data": {
      "image/png": "[encoded data removed]",
      "text/plain": [
       "<Figure size 1000x600 with 1 Axes>"
      ]
     },
     "metadata": {},
     "output_type": "display_data"
    }
   ],
   "source": [
    "tb = score_all['3class_tb'].value_counts()\n",
    "roberta = score_all['roberta'].value_counts()\n",
    "vader = score_all['3class_vad'].value_counts()\n",
    "\n",
    "# Step 2: Combine into a DataFrame\n",
    "# This handles missing categories automatically\n",
    "counts_df = pd.concat([tb, roberta, vader], axis=1, keys=['3class_tb', 'roberta', '3class_vad'])\n",
    "\n",
    "\n",
    "out_name= \"500_days_of_summer\"\n",
    "import matplotlib.pyplot as plt\n",
    "ax = counts_df.plot(kind='bar', \n",
    "                   figsize=(10, 6),\n",
    "                   rot=0)  # Keep sentiment labels horizontal\n",
    "\n",
    "# Add labels and title\n",
    "plt.title( out_name + 'Sentiment Analysis')\n",
    "plt.xlabel('Sentiment')\n",
    "plt.ylabel('Count')\n",
    "\n",
    "# Add value labels\n",
    "for container in ax.containers:\n",
    "    ax.bar_label(container, label_type='edge')\n",
    "\n",
    "plt.tight_layout()\n",
    "#plt.savefig(os.path.join(out_path,out_name)+ '.jpg')\n",
    "plt.show()"
   ]
  },
  {
   "cell_type": "code",
   "execution_count": 222,
   "metadata": {},
   "outputs": [
    {
     "data": {
      "image/png": "[encoded data removed]",
      "text/plain": [
       "<Figure size 1000x600 with 1 Axes>"
      ]
     },
     "metadata": {},
     "output_type": "display_data"
    }
   ],
   "source": [
    "tb_bin1 = score_all['bin1_tb'].value_counts()\n",
    "roberta_bin1 = score_all['distBERT'].value_counts()\n",
    "vader_bin1 = score_all['bin1_vad'].value_counts()\n",
    "\n",
    "# Step 2: Combine into a DataFrame\n",
    "# This handles missing categories automatically\n",
    "counts_bin1 = pd.concat([tb_bin1, roberta_bin1, vader_bin1], axis=1, keys=['bin1_tb', 'distBERT', 'bin1_vad'])\n",
    "\n",
    "\n",
    "out_name= \"500_days_of_summer\"\n",
    "import matplotlib.pyplot as plt\n",
    "ax = counts_bin1.plot(kind='bar', \n",
    "                   figsize=(10, 6),\n",
    "                   rot=0)  # Keep sentiment labels horizontal\n",
    "\n",
    "# Add labels and title\n",
    "plt.title( out_name + 'Sentiment Analysis')\n",
    "plt.xlabel('Sentiment')\n",
    "plt.ylabel('Count')\n",
    "\n",
    "# Add value labels\n",
    "for container in ax.containers:\n",
    "    ax.bar_label(container, label_type='edge')\n",
    "\n",
    "plt.tight_layout()\n",
    "#plt.savefig(os.path.join(out_path,out_name)+ '.jpg')\n",
    "plt.show()"
   ]
  },
  {
   "cell_type": "code",
   "execution_count": 229,
   "metadata": {},
   "outputs": [
    {
     "data": {
      "image/png": "[encoded data removed]",
      "text/plain": [
       "<Figure size 1000x600 with 1 Axes>"
      ]
     },
     "metadata": {},
     "output_type": "display_data"
    }
   ],
   "source": [
    "tb_bin2 = score_all['bin2_tb'].value_counts()\n",
    "roberta_bin2 = score_all['distBERT'].value_counts()\n",
    "vader_bin2 = score_all['bin2_vad'].value_counts()\n",
    "\n",
    "# Step 2: Combine into a DataFrame\n",
    "# This handles missing categories automatically\n",
    "counts_bin2 = pd.concat([tb_bin2, roberta_bin2, vader_bin2], axis=1, keys=['bin2_tb', 'distBERT', 'bin2_vad'])\n",
    "\n",
    "\n",
    "out_name= \"500_days_of_summer\"\n",
    "import matplotlib.pyplot as plt\n",
    "ax = counts_bin2.plot(kind='bar', \n",
    "                   figsize=(10, 6),\n",
    "                   rot=0)  # Keep sentiment labels horizontal\n",
    "\n",
    "# Add labels and title\n",
    "plt.title( out_name + 'Sentiment Analysis')\n",
    "plt.xlabel('Sentiment')\n",
    "plt.ylabel('Count')\n",
    "\n",
    "# Add value labels\n",
    "for container in ax.containers:\n",
    "    ax.bar_label(container, label_type='edge')\n",
    "\n",
    "plt.tight_layout()\n",
    "#plt.savefig(os.path.join(out_path,out_name)+ '.jpg')\n",
    "plt.show()"
   ]
  },
  {
   "cell_type": "code",
   "execution_count": 224,
   "metadata": {},
   "outputs": [
    {
     "data": {
      "image/png": "[encoded data removed]",
      "text/plain": [
       "<Figure size 1000x600 with 1 Axes>"
      ]
     },
     "metadata": {},
     "output_type": "display_data"
    }
   ],
   "source": [
    "import matplotlib.pyplot as plt\n",
    "import os\n",
    "\n",
    "out_name= \"500_days_of_summer\"\n",
    "out_path = \"./image_output/\"\n",
    "csv_path = './csv_output/'\n",
    "# Create plot\n",
    "ax = counts_df.plot(kind='bar', \n",
    "                   figsize=(10, 6),\n",
    "                   rot=0)  # Keep sentiment labels horizontal\n",
    "\n",
    "# Add labels and title\n",
    "plt.title( out_name + 'Sentiment Analysis')\n",
    "plt.xlabel('Sentiment')\n",
    "plt.ylabel('Count')\n",
    "\n",
    "# Add value labels\n",
    "for container in ax.containers:\n",
    "    ax.bar_label(container, label_type='edge')\n",
    "\n",
    "plt.tight_layout()\n",
    "#plt.savefig(os.path.join(out_path,out_name)+ '.jpg')\n",
    "plt.show()\n",
    "\n"
   ]
  },
  {
   "cell_type": "markdown",
   "metadata": {},
   "source": [
    "### similarity score"
   ]
  },
  {
   "cell_type": "code",
   "execution_count": 225,
   "metadata": {},
   "outputs": [
    {
     "name": "stdout",
     "output_type": "stream",
     "text": [
      "similarity score vader roberta multiclass is 0.6260601387818041\n",
      "similarity score vader roberta bin1 is [0.65844256]\n",
      "similarity score vader roberta bin2 is [0.66461064]\n"
     ]
    }
   ],
   "source": [
    "sim_3c = sum(x == y for x, y in zip(score_vader['3class_vad'], score_roberta['label'].values )) / len(score_vader['3class_vad'])\n",
    "sim_bin1 = sum(x == y for x, y in zip(score_vader['bin1_vad'], all_class_disBERT.values )) / len(score_vader['bin1_vad'])\n",
    "sim_bin2 = sum(x == y for x, y in zip(score_vader['bin2_vad'], all_class_disBERT.values )) / len(score_vader['bin2_vad'])\n",
    "print(f\"similarity score vader roberta multiclass is {sim_3c}\")\n",
    "print(f\"similarity score vader roberta bin1 is {sim_bin1}\")\n",
    "print(f\"similarity score vader roberta bin2 is {sim_bin2}\")"
   ]
  },
  {
   "cell_type": "code",
   "execution_count": 226,
   "metadata": {},
   "outputs": [
    {
     "name": "stdout",
     "output_type": "stream",
     "text": [
      "similarity score vader textblob multiclass is 0.6322282189668466\n",
      "similarity score vader textblob bin1 is 0.8619892058596762\n",
      "similarity score vader textblob bin2 is 0.71781033153431\n"
     ]
    }
   ],
   "source": [
    "sim_3c = sum(x == y for x, y in zip(score_vader['3class_vad'], sentiment_textblob['3class_tb'].values )) / len(score_vader['3class_vad'])\n",
    "sim_bin1 = sum(x == y for x, y in zip(score_vader['bin1_vad'], sentiment_textblob['bin1_tb'].values )) / len(score_vader['bin1_vad'])\n",
    "sim_bin2 = sum(x == y for x, y in zip(score_vader['bin2_vad'], sentiment_textblob['bin2_tb'].values )) / len(score_vader['bin2_vad'])\n",
    "print(f\"similarity score vader textblob multiclass is {sim_3c}\")\n",
    "print(f\"similarity score vader textblob bin1 is {sim_bin1}\")\n",
    "print(f\"similarity score vader textblob bin2 is {sim_bin2}\")"
   ]
  },
  {
   "cell_type": "code",
   "execution_count": 227,
   "metadata": {},
   "outputs": [
    {
     "name": "stdout",
     "output_type": "stream",
     "text": [
      "similarity score roberta textblob multiclass is 0.6684656900539707\n",
      "similarity score distBERT textblob bin1 is [0.61912105]\n",
      "similarity score distBERT textblob bin2 is [0.63993832]\n"
     ]
    }
   ],
   "source": [
    "sim_3c = sum(x == y for x, y in zip(score_roberta['label'].values, sentiment_textblob['3class_tb'].values )) / len(sentiment_textblob['3class_tb'])\n",
    "sim_bin1 = sum(x == y for x, y in zip( all_class_disBERT.values, sentiment_textblob['bin1_tb'].values )) / len(sentiment_textblob['bin1_tb'])\n",
    "sim_bin2 = sum(x == y for x, y in zip( all_class_disBERT.values, sentiment_textblob['bin2_tb'].values )) / len(sentiment_textblob['bin2_tb'])\n",
    "print(f\"similarity score roberta textblob multiclass is {sim_3c}\")\n",
    "print(f\"similarity score distBERT textblob bin1 is {sim_bin1}\")\n",
    "print(f\"similarity score distBERT textblob bin2 is {sim_bin2}\")"
   ]
  },
  {
   "cell_type": "markdown",
   "metadata": {},
   "source": [
    "## emotion analysis"
   ]
  },
  {
   "cell_type": "markdown",
   "metadata": {},
   "source": [
    "# Change word to vector "
   ]
  },
  {
   "cell_type": "markdown",
   "metadata": {},
   "source": [
    "## sentence / word tokenization and embeddingh"
   ]
  },
  {
   "cell_type": "markdown",
   "metadata": {},
   "source": [
    "### word2vec embedding"
   ]
  },
  {
   "cell_type": "code",
   "execution_count": 50,
   "metadata": {},
   "outputs": [],
   "source": [
    "# word2vec\n",
    "def sentence_to_vec(sentence, model, vector_size=300):\n",
    "    words = sentence.lower().split()  \n",
    "    #tokens = [re.sub(r'\\W+', '', token) for token in words] \n",
    "    word_vectors = [model[word] for word in words if word in model.key_to_index]\n",
    "    if len(word_vectors) == 0:\n",
    "        return np.zeros(vector_size)\n",
    "    else:\n",
    "        return np.mean(word_vectors, axis=0)\n",
    "\n",
    "# load model to embed the word into vector\n",
    "from gensim.models import Word2Vec\n",
    "from gensim.downloader import load\n",
    "model_w2v = load(\"word2vec-google-news-300\")"
   ]
  },
  {
   "cell_type": "code",
   "execution_count": 51,
   "metadata": {},
   "outputs": [
    {
     "name": "stdout",
     "output_type": "stream",
     "text": [
      "Tokens in model: ['this', 'is', 'story', 'boy', 'meets', 'girl']\n",
      "Tokens 2 in model: ['the', 'boy', 'tom', 'hansen', 'new', 'jersey', 'grew', 'up', 'believing', 'that', 'hed', 'never', 'truly', 'be', 'happy', 'until', 'the', 'day', 'he', 'met', 'the', 'one']\n"
     ]
    }
   ],
   "source": [
    "# check word in dict\n",
    "tokens = ['this', 'is', 'a', 'story', 'of', 'boy', 'meets', 'girl']\n",
    "tokens2 = ['the', 'boy', 'tom', 'hansen', 'of', 'margate', 'new', 'jersey', 'grew', 'up', 'believing', 'that', 'hed',\n",
    "            'never', 'truly', 'be', 'happy', 'until', 'the', 'day', 'he', 'met', 'the', 'one']\n",
    "valid_tokens = [token for token in tokens if token in model_w2v]\n",
    "print(\"Tokens in model:\", valid_tokens)\n",
    "\n",
    "valid_tokens2 = [token for token in tokens2 if token in model_w2v]\n",
    "print(\"Tokens 2 in model:\", valid_tokens2)"
   ]
  },
  {
   "cell_type": "markdown",
   "metadata": {},
   "source": [
    "### distolbert-tokenization and embedding"
   ]
  },
  {
   "cell_type": "code",
   "execution_count": null,
   "metadata": {},
   "outputs": [],
   "source": [
    "import torch\n",
    "import tqdm\n",
    "def get_cls_embeddings_from_series(text_series, tokenizer,model, max_length=128, batch_size=1):\n",
    "    \"\"\"\n",
    "    Converts a Pandas Series of text into a NumPy array of CLS embeddings using DistilBERT.\n",
    "    where CLS is used in the model as a sentence embedding. \n",
    "\n",
    "    Parameters:\n",
    "        text_series (pd.Series): Series of text strings\n",
    "        max_length (int): Maximum token length per sentence\n",
    "        batch_size (int): Batch size for processing (optional, useful for large sets)\n",
    "\n",
    "    Returns:\n",
    "        np.ndarray: Array of shape (n_samples, 768) containing CLS embeddings\n",
    "    \"\"\"\n",
    "    cls_embeddings = []\n",
    "\n",
    "    for text in text_series:\n",
    "        encoded_input = tokenizer(\n",
    "            text,\n",
    "            return_tensors='pt',\n",
    "            padding='max_length',\n",
    "            truncation=True,\n",
    "            max_length=max_length\n",
    "        )\n",
    "\n",
    "        with torch.no_grad():\n",
    "            output = model(**encoded_input)\n",
    "\n",
    "        cls_vec = output.last_hidden_state[:, 0, :]  # [1, 768]\n",
    "        #cls_embeddings.append(cls_vec.squeeze(0).numpy())  # [768]\n",
    "        cls_embeddings.append(np.expand_dims(cls_vec.squeeze(0).numpy(), axis=0))\n",
    "\n",
    "    return np.vstack(cls_embeddings) # shape: [num_sentences, 768]"
   ]
  },
  {
   "cell_type": "markdown",
   "metadata": {},
   "source": [
    "### sentiment_tokenization from roberta model"
   ]
  },
  {
   "cell_type": "code",
   "execution_count": 53,
   "metadata": {},
   "outputs": [],
   "source": [
    "# sentiment_tokenization\n",
    "model_cardiff = f\"cardiffnlp/twitter-roberta-base-sentiment-latest\"\n",
    "tokenizer_ = AutoTokenizer.from_pretrained(model_cardiff)\n",
    "\n",
    "def car_diff_embed(text_series, max_length=128, batch_size=1):\n",
    "\n",
    "    car_diff = []\n",
    "    for text in text_series:\n",
    "\n",
    "        embedding_cardiff = tokenizer_(\n",
    "            text,\n",
    "            return_tensors='pt',       # Return PyTorch tensors\n",
    "            padding='max_length',      # Pad all to the same max_length\n",
    "            truncation=True,           # Truncate if over max_length\n",
    "            max_length=162      \n",
    "        )\n",
    "\n",
    "        car_diff.append(embedding_cardiff['input_ids'].numpy())\n",
    "\n",
    "    return car_diff "
   ]
  },
  {
   "cell_type": "code",
   "execution_count": 86,
   "metadata": {},
   "outputs": [
    {
     "data": {
      "text/plain": [
       "array([[ 0.6997454 ,  0.15458025, -0.01059891, ...,  0.47170144,\n",
       "         0.93815315, -0.41023418],\n",
       "       [-0.54252654,  0.6246307 ,  0.03168805, ..., -0.15648341,\n",
       "        -0.71036536, -0.00857123]], dtype=float32)"
      ]
     },
     "execution_count": 86,
     "metadata": {},
     "output_type": "execute_result"
    }
   ],
   "source": [
    "features"
   ]
  },
  {
   "cell_type": "markdown",
   "metadata": {},
   "source": [
    "### run embedding and tokenization function"
   ]
  },
  {
   "cell_type": "code",
   "execution_count": null,
   "metadata": {},
   "outputs": [],
   "source": [
    "# distilbert fine-tuned with standford dataset for sentiment analysis SST2\n",
    "from transformers import DistilBertTokenizer, DistilBertModel\n",
    "tokenizer_BERT = DistilBertTokenizer.from_pretrained('distilbert-base-uncased')\n",
    "model_BERT = DistilBertModel.from_pretrained(\"distilbert-base-uncased\")\n",
    "model_BERT.eval()\n",
    "\n",
    "model_name = \"distilbert-base-uncased-finetuned-sst-2-english\"\n",
    "tokenizer_sentence_finetuned = AutoTokenizer.from_pretrained(model_name)\n",
    "model_sentence_finetuned = AutoModel.from_pretrained(model_name)  \n",
    "model_sentence_finetuned.eval()\n",
    "\n",
    "\n",
    "\n",
    "sentence_arr['embedding_w2v'] = sentence_arr['text'].apply(lambda x: np.array(sentence_to_vec(x, model_w2v)))\n",
    "embedding_tfm = get_cls_embeddings_from_series(sentence_arr['text'], tokenizer= tokenizer_BERT, model= model_BERT)\n",
    "embedding_sst = get_cls_embeddings_from_series(sentence_arr['text'], tokenizer= tokenizer_sentence_finetuned, model= model_sentence_finetuned)\n",
    "\n",
    "embedding_cardiff = np.squeeze(np.array(car_diff_embed(sentence_arr['text'])))\n",
    "\n",
    "sentence_arr['vader'] = score_vader['label']\n",
    "sentence_arr['roberta'] = score_roberta['label']\n",
    "sentence_arr['textB'] = score_textblob"
   ]
  },
  {
   "cell_type": "code",
   "execution_count": 77,
   "metadata": {},
   "outputs": [
    {
     "name": "stderr",
     "output_type": "stream",
     "text": [
      "c:\\Users\\NA\\.conda\\envs\\eeg_study\\Lib\\site-packages\\huggingface_hub\\file_download.py:143: UserWarning: `huggingface_hub` cache-system uses symlinks by default to efficiently store duplicated files but your machine does not support them in C:\\Users\\NA\\.cache\\huggingface\\hub\\models--sentence-transformers--all-mpnet-base-v2. Caching files will still work but in a degraded version that might require more space on your disk. This warning can be disabled by setting the `HF_HUB_DISABLE_SYMLINKS_WARNING` environment variable. For more details, see https://huggingface.co/docs/huggingface_hub/how-to-cache#limitations.\n",
      "To support symlinks on Windows, you either need to activate Developer Mode or to run Python as an administrator. In order to activate developer mode, see this article: https://docs.microsoft.com/en-us/windows/apps/get-started/enable-your-device-for-development\n",
      "  warnings.warn(message)\n",
      "Xet Storage is enabled for this repo, but the 'hf_xet' package is not installed. Falling back to regular HTTP download. For better performance, install the package with: `pip install huggingface_hub[hf_xet]` or `pip install hf_xet`\n"
     ]
    }
   ],
   "source": [
    "from sentence_transformers import SentenceTransformer\n",
    "model_miniLM = SentenceTransformer(\"all-MiniLM-L6-v2\")\n",
    "model_mpnet = SentenceTransformer(\"all-mpnet-base-v2\")\n",
    "embedding_miniLM = model_miniLM.encode(sentence_arr['text'].values)\n",
    "embedding_mpnet = model_mpnet.encode(sentence_arr['text'].values)"
   ]
  },
  {
   "cell_type": "markdown",
   "metadata": {},
   "source": [
    "## classification sentiment with word vector as a feature"
   ]
  },
  {
   "cell_type": "code",
   "execution_count": 58,
   "metadata": {},
   "outputs": [],
   "source": [
    "import numpy as np\n",
    "import pandas as pd\n",
    "from sklearn.model_selection import train_test_split\n",
    "from sklearn.preprocessing import LabelEncoder\n",
    "from sklearn.metrics import classification_report, accuracy_score\n",
    "from sklearn.linear_model import LogisticRegression\n",
    "from sklearn.svm import SVC\n",
    "from xgboost import XGBClassifier"
   ]
  },
  {
   "cell_type": "markdown",
   "metadata": {},
   "source": [
    "### word2vec"
   ]
  },
  {
   "cell_type": "code",
   "execution_count": 64,
   "metadata": {},
   "outputs": [
    {
     "name": "stdout",
     "output_type": "stream",
     "text": [
      "Train size: (871, 300) | Val size: (187, 300) | Test size: (187, 300)\n",
      "vader\n",
      "0    527\n",
      "2    514\n",
      "1    204\n",
      "Name: count, dtype: int64\n",
      "\n",
      "=== Training: Logistic Regression ===\n",
      "Validation Accuracy: 0.7059\n",
      "\n",
      "=== Training: SVM (linear) ===\n",
      "Validation Accuracy: 0.7914\n",
      "\n",
      "=== Training: XGBoost ===\n"
     ]
    },
    {
     "name": "stderr",
     "output_type": "stream",
     "text": [
      "c:\\Users\\NA\\.conda\\envs\\eeg_study\\Lib\\site-packages\\xgboost\\training.py:183: UserWarning: [14:06:53] WARNING: C:\\actions-runner\\_work\\xgboost\\xgboost\\src\\learner.cc:738: \n",
      "Parameters: { \"use_label_encoder\" } are not used.\n",
      "\n",
      "  bst.update(dtrain, iteration=i, fobj=obj)\n"
     ]
    },
    {
     "name": "stdout",
     "output_type": "stream",
     "text": [
      "Validation Accuracy: 0.7380\n"
     ]
    }
   ],
   "source": [
    "X = np.vstack(sentence_arr['embedding_w2v'].values)\n",
    "y = sentence_arr['vader']\n",
    "\n",
    "X_train, X_temp, y_train, y_temp = train_test_split(X, y, test_size=0.30, random_state=42, stratify=y)\n",
    "X_val, X_test, y_val, y_test = train_test_split(X_temp, y_temp, test_size=0.50, random_state=42, stratify=y_temp)\n",
    "print(\"Train size:\", X_train.shape, \"| Val size:\", X_val.shape, \"| Test size:\", X_test.shape)\n",
    "print(y.value_counts())\n",
    "\n",
    "models = {\n",
    "    \"Logistic Regression\": LogisticRegression(max_iter=1000, C=1.0),\n",
    "    \"SVM (linear)\": SVC(kernel='rbf', C=1.0, probability=True),\n",
    "    \"XGBoost\": XGBClassifier(use_label_encoder=False, eval_metric='mlogloss', max_depth=4, learning_rate=0.1)\n",
    "}\n",
    "\n",
    "# === Train and evaluate each model ===\n",
    "for name, model in models.items():\n",
    "    print(f\"\\n=== Training: {name} ===\")\n",
    "    model.fit(X_train, y_train)\n",
    "\n",
    "    # Evaluate on validation set\n",
    "    y_val_pred = model.predict(X_val)\n",
    "    acc = accuracy_score(y_val, y_val_pred)\n",
    "    print(f\"Validation Accuracy: {acc:.4f}\")\n",
    "    #print(\"Classification Report:\")\n",
    "    #print(classification_report(y_val, y_val_pred))"
   ]
  },
  {
   "cell_type": "code",
   "execution_count": 65,
   "metadata": {},
   "outputs": [
    {
     "name": "stdout",
     "output_type": "stream",
     "text": [
      "Train size: (871, 300) | Val size: (187, 300) | Test size: (187, 300)\n",
      "roberta\n",
      "0    721\n",
      "2    270\n",
      "1    254\n",
      "Name: count, dtype: int64\n",
      "\n",
      "=== Training: Logistic Regression ===\n",
      "Validation Accuracy: 0.6310\n",
      "\n",
      "=== Training: SVM (linear) ===\n",
      "Validation Accuracy: 0.6684\n",
      "\n",
      "=== Training: XGBoost ===\n"
     ]
    },
    {
     "name": "stderr",
     "output_type": "stream",
     "text": [
      "c:\\Users\\NA\\.conda\\envs\\eeg_study\\Lib\\site-packages\\xgboost\\training.py:183: UserWarning: [14:07:08] WARNING: C:\\actions-runner\\_work\\xgboost\\xgboost\\src\\learner.cc:738: \n",
      "Parameters: { \"use_label_encoder\" } are not used.\n",
      "\n",
      "  bst.update(dtrain, iteration=i, fobj=obj)\n"
     ]
    },
    {
     "name": "stdout",
     "output_type": "stream",
     "text": [
      "Validation Accuracy: 0.6578\n"
     ]
    }
   ],
   "source": [
    "X = np.vstack(sentence_arr['embedding_w2v'].values)\n",
    "y = sentence_arr['roberta']\n",
    "\n",
    "X_train, X_temp, y_train, y_temp = train_test_split(X, y, test_size=0.30, random_state=42, stratify=y)\n",
    "X_val, X_test, y_val, y_test = train_test_split(X_temp, y_temp, test_size=0.50, random_state=42, stratify=y_temp)\n",
    "print(\"Train size:\", X_train.shape, \"| Val size:\", X_val.shape, \"| Test size:\", X_test.shape)\n",
    "print(y.value_counts())\n",
    "\n",
    "models = {\n",
    "    \"Logistic Regression\": LogisticRegression(max_iter=1000, C=1.0),\n",
    "    \"SVM (linear)\": SVC(kernel='rbf', C=1.0, probability=True),\n",
    "    \"XGBoost\": XGBClassifier(use_label_encoder=False, eval_metric='mlogloss', max_depth=4, learning_rate=0.1)\n",
    "}\n",
    "\n",
    "# === Train and evaluate each model ===\n",
    "for name, model in models.items():\n",
    "    print(f\"\\n=== Training: {name} ===\")\n",
    "    model.fit(X_train, y_train)\n",
    "\n",
    "    # Evaluate on validation set\n",
    "    y_val_pred = model.predict(X_val)\n",
    "    acc = accuracy_score(y_val, y_val_pred)\n",
    "    print(f\"Validation Accuracy: {acc:.4f}\")\n",
    "    #print(\"Classification Report:\")\n",
    "    #print(classification_report(y_val, y_val_pred))"
   ]
  },
  {
   "cell_type": "code",
   "execution_count": 66,
   "metadata": {},
   "outputs": [
    {
     "name": "stdout",
     "output_type": "stream",
     "text": [
      "Train size: (871, 300) | Val size: (187, 300) | Test size: (187, 300)\n",
      "textB\n",
      "0    786\n",
      "2    353\n",
      "1    106\n",
      "Name: count, dtype: int64\n",
      "\n",
      "=== Training: Logistic Regression ===\n",
      "Validation Accuracy: 0.7968\n",
      "\n",
      "=== Training: SVM (linear) ===\n",
      "Validation Accuracy: 0.8021\n",
      "\n",
      "=== Training: XGBoost ===\n"
     ]
    },
    {
     "name": "stderr",
     "output_type": "stream",
     "text": [
      "c:\\Users\\NA\\.conda\\envs\\eeg_study\\Lib\\site-packages\\xgboost\\training.py:183: UserWarning: [14:07:23] WARNING: C:\\actions-runner\\_work\\xgboost\\xgboost\\src\\learner.cc:738: \n",
      "Parameters: { \"use_label_encoder\" } are not used.\n",
      "\n",
      "  bst.update(dtrain, iteration=i, fobj=obj)\n"
     ]
    },
    {
     "name": "stdout",
     "output_type": "stream",
     "text": [
      "Validation Accuracy: 0.7647\n"
     ]
    }
   ],
   "source": [
    "X = np.vstack(sentence_arr['embedding_w2v'].values)\n",
    "y = sentence_arr['textB']\n",
    "\n",
    "X_train, X_temp, y_train, y_temp = train_test_split(X, y, test_size=0.30, random_state=42, stratify=y)\n",
    "X_val, X_test, y_val, y_test = train_test_split(X_temp, y_temp, test_size=0.50, random_state=42, stratify=y_temp)\n",
    "print(\"Train size:\", X_train.shape, \"| Val size:\", X_val.shape, \"| Test size:\", X_test.shape)\n",
    "print(y.value_counts())\n",
    "\n",
    "models = {\n",
    "    \"Logistic Regression\": LogisticRegression(max_iter=1000, C=1.0),\n",
    "    \"SVM (linear)\": SVC(kernel='rbf', C=1.0, probability=True),\n",
    "    \"XGBoost\": XGBClassifier(use_label_encoder=False, eval_metric='mlogloss', max_depth=4, learning_rate=0.1)\n",
    "}\n",
    "\n",
    "# === Train and evaluate each model ===\n",
    "for name, model in models.items():\n",
    "    print(f\"\\n=== Training: {name} ===\")\n",
    "    model.fit(X_train, y_train)\n",
    "\n",
    "    # Evaluate on validation set\n",
    "    y_val_pred = model.predict(X_val)\n",
    "    acc = accuracy_score(y_val, y_val_pred)\n",
    "    print(f\"Validation Accuracy: {acc:.4f}\")\n",
    "    #print(\"Classification Report:\")\n",
    "    #print(classification_report(y_val, y_val_pred))"
   ]
  },
  {
   "cell_type": "markdown",
   "metadata": {},
   "source": [
    "### distilbert embedding"
   ]
  },
  {
   "cell_type": "code",
   "execution_count": 67,
   "metadata": {},
   "outputs": [
    {
     "name": "stdout",
     "output_type": "stream",
     "text": [
      "Train size: (871, 768) | Val size: (187, 768) | Test size: (187, 768)\n",
      "vader\n",
      "0    527\n",
      "2    514\n",
      "1    204\n",
      "Name: count, dtype: int64\n",
      "\n",
      "=== Training: Logistic Regression ===\n",
      "Validation Accuracy: 0.5294\n",
      "\n",
      "=== Training: SVM (linear) ===\n",
      "Validation Accuracy: 0.4920\n",
      "\n",
      "=== Training: XGBoost ===\n"
     ]
    },
    {
     "name": "stderr",
     "output_type": "stream",
     "text": [
      "c:\\Users\\NA\\.conda\\envs\\eeg_study\\Lib\\site-packages\\xgboost\\training.py:183: UserWarning: [14:07:39] WARNING: C:\\actions-runner\\_work\\xgboost\\xgboost\\src\\learner.cc:738: \n",
      "Parameters: { \"use_label_encoder\" } are not used.\n",
      "\n",
      "  bst.update(dtrain, iteration=i, fobj=obj)\n"
     ]
    },
    {
     "name": "stdout",
     "output_type": "stream",
     "text": [
      "Validation Accuracy: 0.5401\n"
     ]
    }
   ],
   "source": [
    "\n",
    "X = embedding_tfm\n",
    "y = sentence_arr['vader']\n",
    "\n",
    "X_train, X_temp, y_train, y_temp = train_test_split(X, y, test_size=0.30, random_state=42, stratify=y)\n",
    "X_val, X_test, y_val, y_test = train_test_split(X_temp, y_temp, test_size=0.50, random_state=42, stratify=y_temp)\n",
    "print(\"Train size:\", X_train.shape, \"| Val size:\", X_val.shape, \"| Test size:\", X_test.shape)\n",
    "print(y.value_counts())\n",
    "\n",
    "models = {\n",
    "    \"Logistic Regression\": LogisticRegression(max_iter=1000, C=1.0),\n",
    "    \"SVM (linear)\": SVC(kernel='rbf', C=1.0, probability=True),\n",
    "    \"XGBoost\": XGBClassifier(use_label_encoder=False, eval_metric='mlogloss', max_depth=4, learning_rate=0.1)\n",
    "}\n",
    "\n",
    "# === Train and evaluate each model ===\n",
    "for name, model in models.items():\n",
    "    print(f\"\\n=== Training: {name} ===\")\n",
    "    model.fit(X_train, y_train)\n",
    "\n",
    "    # Evaluate on validation set\n",
    "    y_val_pred = model.predict(X_val)\n",
    "    acc = accuracy_score(y_val, y_val_pred)\n",
    "    print(f\"Validation Accuracy: {acc:.4f}\")\n",
    "    #print(\"Classification Report:\")\n",
    "    #print(classification_report(y_val, y_val_pred))"
   ]
  },
  {
   "cell_type": "code",
   "execution_count": 68,
   "metadata": {},
   "outputs": [
    {
     "name": "stdout",
     "output_type": "stream",
     "text": [
      "Train size: (871, 162) | Val size: (187, 162) | Test size: (187, 162)\n",
      "roberta\n",
      "0    721\n",
      "2    270\n",
      "1    254\n",
      "Name: count, dtype: int64\n",
      "\n",
      "=== Training: Logistic Regression ===\n"
     ]
    },
    {
     "name": "stderr",
     "output_type": "stream",
     "text": [
      "c:\\Users\\NA\\.conda\\envs\\eeg_study\\Lib\\site-packages\\sklearn\\linear_model\\_logistic.py:470: ConvergenceWarning: lbfgs failed to converge after 1000 iteration(s) (status=1):\n",
      "STOP: TOTAL NO. of ITERATIONS REACHED LIMIT\n",
      "\n",
      "Increase the number of iterations to improve the convergence (max_iter=1000).\n",
      "You might also want to scale the data as shown in:\n",
      "    https://scikit-learn.org/stable/modules/preprocessing.html\n",
      "Please also refer to the documentation for alternative solver options:\n",
      "    https://scikit-learn.org/stable/modules/linear_model.html#logistic-regression\n",
      "  n_iter_i = _check_optimize_result(\n",
      "c:\\Users\\NA\\.conda\\envs\\eeg_study\\Lib\\site-packages\\xgboost\\training.py:183: UserWarning: [14:07:49] WARNING: C:\\actions-runner\\_work\\xgboost\\xgboost\\src\\learner.cc:738: \n",
      "Parameters: { \"use_label_encoder\" } are not used.\n",
      "\n",
      "  bst.update(dtrain, iteration=i, fobj=obj)\n"
     ]
    },
    {
     "name": "stdout",
     "output_type": "stream",
     "text": [
      "Validation Accuracy: 0.5508\n",
      "\n",
      "=== Training: SVM (linear) ===\n",
      "Validation Accuracy: 0.5775\n",
      "\n",
      "=== Training: XGBoost ===\n",
      "Validation Accuracy: 0.5455\n"
     ]
    }
   ],
   "source": [
    "X = embedding_cardiff\n",
    "y = sentence_arr['roberta']\n",
    "\n",
    "X_train, X_temp, y_train, y_temp = train_test_split(X, y, test_size=0.30, random_state=42, stratify=y)\n",
    "X_val, X_test, y_val, y_test = train_test_split(X_temp, y_temp, test_size=0.50, random_state=42, stratify=y_temp)\n",
    "print(\"Train size:\", X_train.shape, \"| Val size:\", X_val.shape, \"| Test size:\", X_test.shape)\n",
    "print(y.value_counts())\n",
    "\n",
    "models = {\n",
    "    \"Logistic Regression\": LogisticRegression(max_iter=1000, C=1.0),\n",
    "    \"SVM (linear)\": SVC(kernel='rbf', C=1.0, probability=True),\n",
    "    \"XGBoost\": XGBClassifier(use_label_encoder=False, eval_metric='mlogloss', max_depth=4, learning_rate=0.1)\n",
    "}\n",
    "\n",
    "# === Train and evaluate each model ===\n",
    "for name, model in models.items():\n",
    "    print(f\"\\n=== Training: {name} ===\")\n",
    "    model.fit(X_train, y_train)\n",
    "\n",
    "    # Evaluate on validation set\n",
    "    y_val_pred = model.predict(X_val)\n",
    "    acc = accuracy_score(y_val, y_val_pred)\n",
    "    print(f\"Validation Accuracy: {acc:.4f}\")\n",
    "    #print(\"Classification Report:\")\n",
    "    #print(classification_report(y_val, y_val_pred))"
   ]
  },
  {
   "cell_type": "code",
   "execution_count": 69,
   "metadata": {},
   "outputs": [
    {
     "name": "stdout",
     "output_type": "stream",
     "text": [
      "Train size: (871, 162) | Val size: (187, 162) | Test size: (187, 162)\n",
      "textB\n",
      "0    786\n",
      "2    353\n",
      "1    106\n",
      "Name: count, dtype: int64\n",
      "\n",
      "=== Training: Logistic Regression ===\n"
     ]
    },
    {
     "name": "stderr",
     "output_type": "stream",
     "text": [
      "c:\\Users\\NA\\.conda\\envs\\eeg_study\\Lib\\site-packages\\sklearn\\linear_model\\_logistic.py:470: ConvergenceWarning: lbfgs failed to converge after 1000 iteration(s) (status=1):\n",
      "STOP: TOTAL NO. of ITERATIONS REACHED LIMIT\n",
      "\n",
      "Increase the number of iterations to improve the convergence (max_iter=1000).\n",
      "You might also want to scale the data as shown in:\n",
      "    https://scikit-learn.org/stable/modules/preprocessing.html\n",
      "Please also refer to the documentation for alternative solver options:\n",
      "    https://scikit-learn.org/stable/modules/linear_model.html#logistic-regression\n",
      "  n_iter_i = _check_optimize_result(\n",
      "c:\\Users\\NA\\.conda\\envs\\eeg_study\\Lib\\site-packages\\xgboost\\training.py:183: UserWarning: [14:07:57] WARNING: C:\\actions-runner\\_work\\xgboost\\xgboost\\src\\learner.cc:738: \n",
      "Parameters: { \"use_label_encoder\" } are not used.\n",
      "\n",
      "  bst.update(dtrain, iteration=i, fobj=obj)\n"
     ]
    },
    {
     "name": "stdout",
     "output_type": "stream",
     "text": [
      "Validation Accuracy: 0.6364\n",
      "\n",
      "=== Training: SVM (linear) ===\n",
      "Validation Accuracy: 0.6310\n",
      "\n",
      "=== Training: XGBoost ===\n",
      "Validation Accuracy: 0.6524\n"
     ]
    }
   ],
   "source": [
    "X = embedding_cardiff\n",
    "y = sentence_arr['textB']\n",
    "\n",
    "X_train, X_temp, y_train, y_temp = train_test_split(X, y, test_size=0.30, random_state=42, stratify=y)\n",
    "X_val, X_test, y_val, y_test = train_test_split(X_temp, y_temp, test_size=0.50, random_state=42, stratify=y_temp)\n",
    "print(\"Train size:\", X_train.shape, \"| Val size:\", X_val.shape, \"| Test size:\", X_test.shape)\n",
    "print(y.value_counts())\n",
    "\n",
    "models = {\n",
    "    \"Logistic Regression\": LogisticRegression(max_iter=1000, C=1.0),\n",
    "    \"SVM (linear)\": SVC(kernel='rbf', C=1.0, probability=True),\n",
    "    \"XGBoost\": XGBClassifier(use_label_encoder=False, eval_metric='mlogloss', max_depth=4, learning_rate=0.1)\n",
    "}\n",
    "\n",
    "# === Train and evaluate each model ===\n",
    "for name, model in models.items():\n",
    "    print(f\"\\n=== Training: {name} ===\")\n",
    "    model.fit(X_train, y_train)\n",
    "\n",
    "    # Evaluate on validation set\n",
    "    y_val_pred = model.predict(X_val)\n",
    "    acc = accuracy_score(y_val, y_val_pred)\n",
    "    print(f\"Validation Accuracy: {acc:.4f}\")\n",
    "    #print(\"Classification Report:\")\n",
    "    #print(classification_report(y_val, y_val_pred))"
   ]
  },
  {
   "cell_type": "markdown",
   "metadata": {},
   "source": [
    "### sentence embedding"
   ]
  },
  {
   "cell_type": "code",
   "execution_count": null,
   "metadata": {},
   "outputs": [
    {
     "name": "stdout",
     "output_type": "stream",
     "text": [
      "Train size: (871, 384) | Val size: (187, 384) | Test size: (187, 384)\n",
      "roberta\n",
      "0    721\n",
      "2    270\n",
      "1    254\n",
      "Name: count, dtype: int64\n",
      "\n",
      "=== Training: Logistic Regression ===\n",
      "Validation Accuracy: 0.6952\n",
      "\n",
      "=== Training: SVM (linear) ===\n",
      "Validation Accuracy: 0.6738\n",
      "\n",
      "=== Training: XGBoost ===\n"
     ]
    },
    {
     "name": "stderr",
     "output_type": "stream",
     "text": [
      "c:\\Users\\NA\\.conda\\envs\\eeg_study\\Lib\\site-packages\\xgboost\\training.py:183: UserWarning: [13:55:49] WARNING: C:\\actions-runner\\_work\\xgboost\\xgboost\\src\\learner.cc:738: \n",
      "Parameters: { \"use_label_encoder\" } are not used.\n",
      "\n",
      "  bst.update(dtrain, iteration=i, fobj=obj)\n"
     ]
    },
    {
     "name": "stdout",
     "output_type": "stream",
     "text": [
      "Validation Accuracy: 0.6684\n"
     ]
    }
   ],
   "source": [
    "X = embedding_miniLM\n",
    "y = sentence_arr['roberta']\n",
    "\n",
    "X_train, X_temp, y_train, y_temp = train_test_split(X, y, test_size=0.30, random_state=42, stratify=y)\n",
    "X_val, X_test, y_val, y_test = train_test_split(X_temp, y_temp, test_size=0.50, random_state=42, stratify=y_temp)\n",
    "print(\"Train size:\", X_train.shape, \"| Val size:\", X_val.shape, \"| Test size:\", X_test.shape)\n",
    "print(y.value_counts())\n",
    "\n",
    "models = {\n",
    "    \"Logistic Regression\": LogisticRegression(max_iter=1000, C=1.0),\n",
    "    \"SVM (linear)\": SVC(kernel='rbf', C=1.0, probability=True),\n",
    "    \"XGBoost\": XGBClassifier(use_label_encoder=False, eval_metric='mlogloss', max_depth=4, learning_rate=0.1)\n",
    "}\n",
    "\n",
    "# === Train and evaluate each model ===\n",
    "for name, model in models.items():\n",
    "    print(f\"\\n=== Training: {name} ===\")\n",
    "    model.fit(X_train, y_train)\n",
    "\n",
    "    # Evaluate on validation set\n",
    "    y_val_pred = model.predict(X_val)\n",
    "    acc = accuracy_score(y_val, y_val_pred)\n",
    "    print(f\"Validation Accuracy: {acc:.4f}\")\n",
    "    #print(\"Classification Report:\")\n",
    "    #print(classification_report(y_val, y_val_pred))"
   ]
  },
  {
   "cell_type": "code",
   "execution_count": null,
   "metadata": {},
   "outputs": [
    {
     "name": "stdout",
     "output_type": "stream",
     "text": [
      "Train size: (871, 384) | Val size: (187, 384) | Test size: (187, 384)\n",
      "vader\n",
      "0    527\n",
      "2    514\n",
      "1    204\n",
      "Name: count, dtype: int64\n",
      "\n",
      "=== Training: Logistic Regression ===\n",
      "Validation Accuracy: 0.7273\n",
      "\n",
      "=== Training: SVM (linear) ===\n",
      "Validation Accuracy: 0.7166\n",
      "\n",
      "=== Training: XGBoost ===\n"
     ]
    },
    {
     "name": "stderr",
     "output_type": "stream",
     "text": [
      "c:\\Users\\NA\\.conda\\envs\\eeg_study\\Lib\\site-packages\\xgboost\\training.py:183: UserWarning: [13:56:16] WARNING: C:\\actions-runner\\_work\\xgboost\\xgboost\\src\\learner.cc:738: \n",
      "Parameters: { \"use_label_encoder\" } are not used.\n",
      "\n",
      "  bst.update(dtrain, iteration=i, fobj=obj)\n"
     ]
    },
    {
     "name": "stdout",
     "output_type": "stream",
     "text": [
      "Validation Accuracy: 0.7219\n"
     ]
    }
   ],
   "source": [
    "X = embedding_miniLM\n",
    "y = sentence_arr['vader']\n",
    "\n",
    "X_train, X_temp, y_train, y_temp = train_test_split(X, y, test_size=0.30, random_state=42, stratify=y)\n",
    "X_val, X_test, y_val, y_test = train_test_split(X_temp, y_temp, test_size=0.50, random_state=42, stratify=y_temp)\n",
    "print(\"Train size:\", X_train.shape, \"| Val size:\", X_val.shape, \"| Test size:\", X_test.shape)\n",
    "print(y.value_counts())\n",
    "\n",
    "models = {\n",
    "    \"Logistic Regression\": LogisticRegression(max_iter=1000, C=1.0),\n",
    "    \"SVM (linear)\": SVC(kernel='rbf', C=1.0, probability=True),\n",
    "    \"XGBoost\": XGBClassifier(use_label_encoder=False, eval_metric='mlogloss', max_depth=4, learning_rate=0.1)\n",
    "}\n",
    "\n",
    "# === Train and evaluate each model ===\n",
    "for name, model in models.items():\n",
    "    print(f\"\\n=== Training: {name} ===\")\n",
    "    model.fit(X_train, y_train)\n",
    "\n",
    "    # Evaluate on validation set\n",
    "    y_val_pred = model.predict(X_val)\n",
    "    acc = accuracy_score(y_val, y_val_pred)\n",
    "    print(f\"Validation Accuracy: {acc:.4f}\")\n",
    "    #print(\"Classification Report:\")\n",
    "    #print(classification_report(y_val, y_val_pred))"
   ]
  },
  {
   "cell_type": "code",
   "execution_count": null,
   "metadata": {},
   "outputs": [
    {
     "name": "stdout",
     "output_type": "stream",
     "text": [
      "Train size: (871, 384) | Val size: (187, 384) | Test size: (187, 384)\n",
      "textB\n",
      "0    786\n",
      "2    353\n",
      "1    106\n",
      "Name: count, dtype: int64\n",
      "\n",
      "=== Training: Logistic Regression ===\n",
      "Validation Accuracy: 0.7487\n",
      "\n",
      "=== Training: SVM (linear) ===\n",
      "Validation Accuracy: 0.7701\n",
      "\n",
      "=== Training: XGBoost ===\n"
     ]
    },
    {
     "name": "stderr",
     "output_type": "stream",
     "text": [
      "c:\\Users\\NA\\.conda\\envs\\eeg_study\\Lib\\site-packages\\xgboost\\training.py:183: UserWarning: [14:06:23] WARNING: C:\\actions-runner\\_work\\xgboost\\xgboost\\src\\learner.cc:738: \n",
      "Parameters: { \"use_label_encoder\" } are not used.\n",
      "\n",
      "  bst.update(dtrain, iteration=i, fobj=obj)\n"
     ]
    },
    {
     "name": "stdout",
     "output_type": "stream",
     "text": [
      "Validation Accuracy: 0.7380\n"
     ]
    }
   ],
   "source": [
    "X = embedding_miniLM\n",
    "y = sentence_arr['textB']\n",
    "\n",
    "X_train, X_temp, y_train, y_temp = train_test_split(X, y, test_size=0.30, random_state=42, stratify=y)\n",
    "X_val, X_test, y_val, y_test = train_test_split(X_temp, y_temp, test_size=0.50, random_state=42, stratify=y_temp)\n",
    "print(\"Train size:\", X_train.shape, \"| Val size:\", X_val.shape, \"| Test size:\", X_test.shape)\n",
    "print(y.value_counts())\n",
    "\n",
    "models = {\n",
    "    \"Logistic Regression\": LogisticRegression(max_iter=1000, C=1.0),\n",
    "    \"SVM (linear)\": SVC(kernel='rbf', C=1.0, probability=True),\n",
    "    \"XGBoost\": XGBClassifier(use_label_encoder=False, eval_metric='mlogloss', max_depth=4, learning_rate=0.1)\n",
    "}\n",
    "\n",
    "# === Train and evaluate each model ===\n",
    "for name, model in models.items():\n",
    "    print(f\"\\n=== Training: {name} ===\")\n",
    "    model.fit(X_train, y_train)\n",
    "\n",
    "    # Evaluate on validation set\n",
    "    y_val_pred = model.predict(X_val)\n",
    "    acc = accuracy_score(y_val, y_val_pred)\n",
    "    print(f\"Validation Accuracy: {acc:.4f}\")\n",
    "    #print(\"Classification Report:\")\n",
    "    #print(classification_report(y_val, y_val_pred))"
   ]
  },
  {
   "cell_type": "markdown",
   "metadata": {},
   "source": [
    "### Sentence transformer mpnet"
   ]
  },
  {
   "cell_type": "code",
   "execution_count": 78,
   "metadata": {},
   "outputs": [
    {
     "name": "stdout",
     "output_type": "stream",
     "text": [
      "Train size: (871, 768) | Val size: (187, 768) | Test size: (187, 768)\n",
      "roberta\n",
      "0    721\n",
      "2    270\n",
      "1    254\n",
      "Name: count, dtype: int64\n",
      "\n",
      "=== Training: Logistic Regression ===\n",
      "Validation Accuracy: 0.7112\n",
      "\n",
      "=== Training: SVM (linear) ===\n",
      "Validation Accuracy: 0.7059\n",
      "\n",
      "=== Training: XGBoost ===\n"
     ]
    },
    {
     "name": "stderr",
     "output_type": "stream",
     "text": [
      "c:\\Users\\NA\\.conda\\envs\\eeg_study\\Lib\\site-packages\\xgboost\\training.py:183: UserWarning: [17:07:20] WARNING: C:\\actions-runner\\_work\\xgboost\\xgboost\\src\\learner.cc:738: \n",
      "Parameters: { \"use_label_encoder\" } are not used.\n",
      "\n",
      "  bst.update(dtrain, iteration=i, fobj=obj)\n"
     ]
    },
    {
     "name": "stdout",
     "output_type": "stream",
     "text": [
      "Validation Accuracy: 0.6898\n"
     ]
    }
   ],
   "source": [
    "X = embedding_mpnet\n",
    "y = sentence_arr['roberta']\n",
    "\n",
    "X_train, X_temp, y_train, y_temp = train_test_split(X, y, test_size=0.30, random_state=42, stratify=y)\n",
    "X_val, X_test, y_val, y_test = train_test_split(X_temp, y_temp, test_size=0.50, random_state=42, stratify=y_temp)\n",
    "print(\"Train size:\", X_train.shape, \"| Val size:\", X_val.shape, \"| Test size:\", X_test.shape)\n",
    "print(y.value_counts())\n",
    "\n",
    "models = {\n",
    "    \"Logistic Regression\": LogisticRegression(max_iter=1000, C=1.0),\n",
    "    \"SVM (linear)\": SVC(kernel='rbf', C=1.0, probability=True),\n",
    "    \"XGBoost\": XGBClassifier(use_label_encoder=False, eval_metric='mlogloss', max_depth=4, learning_rate=0.1)\n",
    "}\n",
    "\n",
    "# === Train and evaluate each model ===\n",
    "for name, model in models.items():\n",
    "    print(f\"\\n=== Training: {name} ===\")\n",
    "    model.fit(X_train, y_train)\n",
    "\n",
    "    # Evaluate on validation set\n",
    "    y_val_pred = model.predict(X_val)\n",
    "    acc = accuracy_score(y_val, y_val_pred)\n",
    "    print(f\"Validation Accuracy: {acc:.4f}\")\n",
    "    #print(\"Classification Report:\")\n",
    "    #print(classification_report(y_val, y_val_pred))"
   ]
  },
  {
   "cell_type": "code",
   "execution_count": 79,
   "metadata": {},
   "outputs": [
    {
     "name": "stdout",
     "output_type": "stream",
     "text": [
      "Train size: (871, 768) | Val size: (187, 768) | Test size: (187, 768)\n",
      "vader\n",
      "0    527\n",
      "2    514\n",
      "1    204\n",
      "Name: count, dtype: int64\n",
      "\n",
      "=== Training: Logistic Regression ===\n",
      "Validation Accuracy: 0.7166\n",
      "\n",
      "=== Training: SVM (linear) ===\n",
      "Validation Accuracy: 0.7005\n",
      "\n",
      "=== Training: XGBoost ===\n"
     ]
    },
    {
     "name": "stderr",
     "output_type": "stream",
     "text": [
      "c:\\Users\\NA\\.conda\\envs\\eeg_study\\Lib\\site-packages\\xgboost\\training.py:183: UserWarning: [17:07:22] WARNING: C:\\actions-runner\\_work\\xgboost\\xgboost\\src\\learner.cc:738: \n",
      "Parameters: { \"use_label_encoder\" } are not used.\n",
      "\n",
      "  bst.update(dtrain, iteration=i, fobj=obj)\n"
     ]
    },
    {
     "name": "stdout",
     "output_type": "stream",
     "text": [
      "Validation Accuracy: 0.6471\n"
     ]
    }
   ],
   "source": [
    "X = embedding_mpnet\n",
    "y = sentence_arr['vader']\n",
    "\n",
    "X_train, X_temp, y_train, y_temp = train_test_split(X, y, test_size=0.30, random_state=42, stratify=y)\n",
    "X_val, X_test, y_val, y_test = train_test_split(X_temp, y_temp, test_size=0.50, random_state=42, stratify=y_temp)\n",
    "print(\"Train size:\", X_train.shape, \"| Val size:\", X_val.shape, \"| Test size:\", X_test.shape)\n",
    "print(y.value_counts())\n",
    "\n",
    "models = {\n",
    "    \"Logistic Regression\": LogisticRegression(max_iter=1000, C=1.0),\n",
    "    \"SVM (linear)\": SVC(kernel='rbf', C=1.0, probability=True),\n",
    "    \"XGBoost\": XGBClassifier(use_label_encoder=False, eval_metric='mlogloss', max_depth=4, learning_rate=0.1)\n",
    "}\n",
    "\n",
    "# === Train and evaluate each model ===\n",
    "for name, model in models.items():\n",
    "    print(f\"\\n=== Training: {name} ===\")\n",
    "    model.fit(X_train, y_train)\n",
    "\n",
    "    # Evaluate on validation set\n",
    "    y_val_pred = model.predict(X_val)\n",
    "    acc = accuracy_score(y_val, y_val_pred)\n",
    "    print(f\"Validation Accuracy: {acc:.4f}\")\n",
    "    #print(\"Classification Report:\")\n",
    "    #print(classification_report(y_val, y_val_pred))"
   ]
  },
  {
   "cell_type": "code",
   "execution_count": null,
   "metadata": {},
   "outputs": [
    {
     "name": "stdout",
     "output_type": "stream",
     "text": [
      "Train size: (871, 768) | Val size: (187, 768) | Test size: (187, 768)\n",
      "textB\n",
      "0    786\n",
      "2    353\n",
      "1    106\n",
      "Name: count, dtype: int64\n",
      "\n",
      "=== Training: Logistic Regression ===\n",
      "Validation Accuracy: 0.7380\n",
      "\n",
      "=== Training: SVM (linear) ===\n",
      "Validation Accuracy: 0.7594\n",
      "\n",
      "=== Training: XGBoost ===\n"
     ]
    },
    {
     "name": "stderr",
     "output_type": "stream",
     "text": [
      "c:\\Users\\NA\\.conda\\envs\\eeg_study\\Lib\\site-packages\\xgboost\\training.py:183: UserWarning: [17:07:25] WARNING: C:\\actions-runner\\_work\\xgboost\\xgboost\\src\\learner.cc:738: \n",
      "Parameters: { \"use_label_encoder\" } are not used.\n",
      "\n",
      "  bst.update(dtrain, iteration=i, fobj=obj)\n"
     ]
    },
    {
     "name": "stdout",
     "output_type": "stream",
     "text": [
      "Validation Accuracy: 0.7112\n"
     ]
    }
   ],
   "source": [
    "X = embedding_mpnet\n",
    "y = sentence_arr['textB']\n",
    "\n",
    "X_train, X_temp, y_train, y_temp = train_test_split(X, y, test_size=0.30, random_state=42, stratify=y)\n",
    "X_val, X_test, y_val, y_test = train_test_split(X_temp, y_temp, test_size=0.50, random_state=42, stratify=y_temp)\n",
    "print(\"Train size:\", X_train.shape, \"| Val size:\", X_val.shape, \"| Test size:\", X_test.shape)\n",
    "print(y.value_counts())\n",
    "\n",
    "models = {\n",
    "    \"Logistic Regression\": LogisticRegression(max_iter=1000, C=1.0),\n",
    "    \"SVM (linear)\": SVC(kernel='rbf', C=1.0, probability=True),\n",
    "    \"XGBoost\": XGBClassifier(use_label_encoder=False, eval_metric='mlogloss', max_depth=4, learning_rate=0.1)\n",
    "}\n",
    "\n",
    "# === Train and evaluate each model ===\n",
    "for name, model in models.items():\n",
    "    print(f\"\\n=== Training: {name} ===\")\n",
    "    model.fit(X_train, y_train)\n",
    "\n",
    "    # Evaluate on validation set\n",
    "    y_val_pred = model.predict(X_val)\n",
    "    acc = accuracy_score(y_val, y_val_pred)\n",
    "    print(f\"Validation Accuracy: {acc:.4f}\")\n",
    "    #print(\"Classification Report:\")\n",
    "    #print(classification_report(y_val, y_val_pred))"
   ]
  },
  {
   "cell_type": "markdown",
   "metadata": {},
   "source": [
    "### Sentence transformer fine-tunedsst\n",
    "currently perform the best for all"
   ]
  },
  {
   "cell_type": "code",
   "execution_count": 90,
   "metadata": {},
   "outputs": [
    {
     "name": "stdout",
     "output_type": "stream",
     "text": [
      "Train size: (871, 768) | Val size: (187, 768) | Test size: (187, 768)\n",
      "roberta\n",
      "0    721\n",
      "2    270\n",
      "1    254\n",
      "Name: count, dtype: int64\n",
      "\n",
      "=== Training: Logistic Regression ===\n",
      "Validation Accuracy: 0.7594\n",
      "\n",
      "=== Training: SVM (linear) ===\n",
      "Validation Accuracy: 0.7273\n",
      "\n",
      "=== Training: XGBoost ===\n"
     ]
    },
    {
     "name": "stderr",
     "output_type": "stream",
     "text": [
      "c:\\Users\\NA\\.conda\\envs\\eeg_study\\Lib\\site-packages\\xgboost\\training.py:183: UserWarning: [22:20:15] WARNING: C:\\actions-runner\\_work\\xgboost\\xgboost\\src\\learner.cc:738: \n",
      "Parameters: { \"use_label_encoder\" } are not used.\n",
      "\n",
      "  bst.update(dtrain, iteration=i, fobj=obj)\n"
     ]
    },
    {
     "name": "stdout",
     "output_type": "stream",
     "text": [
      "Validation Accuracy: 0.7594\n"
     ]
    }
   ],
   "source": [
    "X = embedding_sst\n",
    "y = sentence_arr['roberta']\n",
    "\n",
    "X_train, X_temp, y_train, y_temp = train_test_split(X, y, test_size=0.30, random_state=42, stratify=y)\n",
    "X_val, X_test, y_val, y_test = train_test_split(X_temp, y_temp, test_size=0.50, random_state=42, stratify=y_temp)\n",
    "print(\"Train size:\", X_train.shape, \"| Val size:\", X_val.shape, \"| Test size:\", X_test.shape)\n",
    "print(y.value_counts())\n",
    "\n",
    "models = {\n",
    "    \"Logistic Regression\": LogisticRegression(max_iter=1000, C=1.0),\n",
    "    \"SVM (linear)\": SVC(kernel='rbf', C=1.0, probability=True),\n",
    "    \"XGBoost\": XGBClassifier(use_label_encoder=False, eval_metric='mlogloss', max_depth=4, learning_rate=0.1)\n",
    "}\n",
    "\n",
    "# === Train and evaluate each model ===\n",
    "for name, model in models.items():\n",
    "    print(f\"\\n=== Training: {name} ===\")\n",
    "    model.fit(X_train, y_train)\n",
    "\n",
    "    # Evaluate on validation set\n",
    "    y_val_pred = model.predict(X_val)\n",
    "    acc = accuracy_score(y_val, y_val_pred)\n",
    "    print(f\"Validation Accuracy: {acc:.4f}\")\n",
    "    #print(\"Classification Report:\")\n",
    "    #print(classification_report(y_val, y_val_pred))"
   ]
  },
  {
   "cell_type": "code",
   "execution_count": 91,
   "metadata": {},
   "outputs": [
    {
     "name": "stdout",
     "output_type": "stream",
     "text": [
      "Train size: (871, 768) | Val size: (187, 768) | Test size: (187, 768)\n",
      "vader\n",
      "0    527\n",
      "2    514\n",
      "1    204\n",
      "Name: count, dtype: int64\n",
      "\n",
      "=== Training: Logistic Regression ===\n",
      "Validation Accuracy: 0.7166\n",
      "\n",
      "=== Training: SVM (linear) ===\n",
      "Validation Accuracy: 0.7112\n",
      "\n",
      "=== Training: XGBoost ===\n"
     ]
    },
    {
     "name": "stderr",
     "output_type": "stream",
     "text": [
      "c:\\Users\\NA\\.conda\\envs\\eeg_study\\Lib\\site-packages\\xgboost\\training.py:183: UserWarning: [22:20:23] WARNING: C:\\actions-runner\\_work\\xgboost\\xgboost\\src\\learner.cc:738: \n",
      "Parameters: { \"use_label_encoder\" } are not used.\n",
      "\n",
      "  bst.update(dtrain, iteration=i, fobj=obj)\n"
     ]
    },
    {
     "name": "stdout",
     "output_type": "stream",
     "text": [
      "Validation Accuracy: 0.7273\n"
     ]
    }
   ],
   "source": [
    "X = embedding_sst\n",
    "y = sentence_arr['vader']\n",
    "\n",
    "X_train, X_temp, y_train, y_temp = train_test_split(X, y, test_size=0.30, random_state=42, stratify=y)\n",
    "X_val, X_test, y_val, y_test = train_test_split(X_temp, y_temp, test_size=0.50, random_state=42, stratify=y_temp)\n",
    "print(\"Train size:\", X_train.shape, \"| Val size:\", X_val.shape, \"| Test size:\", X_test.shape)\n",
    "print(y.value_counts())\n",
    "\n",
    "models = {\n",
    "    \"Logistic Regression\": LogisticRegression(max_iter=1000, C=1.0),\n",
    "    \"SVM (linear)\": SVC(kernel='rbf', C=1.0, probability=True),\n",
    "    \"XGBoost\": XGBClassifier(use_label_encoder=False, eval_metric='mlogloss', max_depth=4, learning_rate=0.1)\n",
    "}\n",
    "\n",
    "# === Train and evaluate each model ===\n",
    "for name, model in models.items():\n",
    "    print(f\"\\n=== Training: {name} ===\")\n",
    "    model.fit(X_train, y_train)\n",
    "\n",
    "    # Evaluate on validation set\n",
    "    y_val_pred = model.predict(X_val)\n",
    "    acc = accuracy_score(y_val, y_val_pred)\n",
    "    print(f\"Validation Accuracy: {acc:.4f}\")\n",
    "    #print(\"Classification Report:\")\n",
    "    #print(classification_report(y_val, y_val_pred))"
   ]
  },
  {
   "cell_type": "code",
   "execution_count": 92,
   "metadata": {},
   "outputs": [
    {
     "name": "stdout",
     "output_type": "stream",
     "text": [
      "Train size: (871, 768) | Val size: (187, 768) | Test size: (187, 768)\n",
      "textB\n",
      "0    786\n",
      "2    353\n",
      "1    106\n",
      "Name: count, dtype: int64\n",
      "\n",
      "=== Training: Logistic Regression ===\n",
      "Validation Accuracy: 0.7594\n",
      "\n",
      "=== Training: SVM (linear) ===\n",
      "Validation Accuracy: 0.7059\n",
      "\n",
      "=== Training: XGBoost ===\n"
     ]
    },
    {
     "name": "stderr",
     "output_type": "stream",
     "text": [
      "c:\\Users\\NA\\.conda\\envs\\eeg_study\\Lib\\site-packages\\xgboost\\training.py:183: UserWarning: [22:20:27] WARNING: C:\\actions-runner\\_work\\xgboost\\xgboost\\src\\learner.cc:738: \n",
      "Parameters: { \"use_label_encoder\" } are not used.\n",
      "\n",
      "  bst.update(dtrain, iteration=i, fobj=obj)\n"
     ]
    },
    {
     "name": "stdout",
     "output_type": "stream",
     "text": [
      "Validation Accuracy: 0.7487\n"
     ]
    }
   ],
   "source": [
    "X = embedding_sst\n",
    "y = sentence_arr['textB']\n",
    "\n",
    "X_train, X_temp, y_train, y_temp = train_test_split(X, y, test_size=0.30, random_state=42, stratify=y)\n",
    "X_val, X_test, y_val, y_test = train_test_split(X_temp, y_temp, test_size=0.50, random_state=42, stratify=y_temp)\n",
    "print(\"Train size:\", X_train.shape, \"| Val size:\", X_val.shape, \"| Test size:\", X_test.shape)\n",
    "print(y.value_counts())\n",
    "\n",
    "models = {\n",
    "    \"Logistic Regression\": LogisticRegression(max_iter=1000, C=1.0),\n",
    "    \"SVM (linear)\": SVC(kernel='rbf', C=1.0, probability=True),\n",
    "    \"XGBoost\": XGBClassifier(use_label_encoder=False, eval_metric='mlogloss', max_depth=4, learning_rate=0.1)\n",
    "}\n",
    "\n",
    "# === Train and evaluate each model ===\n",
    "for name, model in models.items():\n",
    "    print(f\"\\n=== Training: {name} ===\")\n",
    "    model.fit(X_train, y_train)\n",
    "\n",
    "    # Evaluate on validation set\n",
    "    y_val_pred = model.predict(X_val)\n",
    "    acc = accuracy_score(y_val, y_val_pred)\n",
    "    print(f\"Validation Accuracy: {acc:.4f}\")\n",
    "    #print(\"Classification Report:\")\n",
    "    #print(classification_report(y_val, y_val_pred))"
   ]
  },
  {
   "cell_type": "markdown",
   "metadata": {},
   "source": [
    "### use the sentiment score"
   ]
  },
  {
   "cell_type": "code",
   "execution_count": 386,
   "metadata": {},
   "outputs": [
    {
     "name": "stdout",
     "output_type": "stream",
     "text": [
      "Train size: (871, 3) | Val size: (187, 3) | Test size: (187, 3)\n",
      "roberta\n",
      "0    721\n",
      "2    270\n",
      "1    254\n",
      "Name: count, dtype: int64\n",
      "\n",
      "=== Training: Logistic Regression ===\n",
      "Validation Accuracy: 0.9893\n",
      "\n",
      "=== Training: SVM (linear) ===\n",
      "Validation Accuracy: 0.9786\n",
      "\n",
      "=== Training: XGBoost ===\n",
      "Validation Accuracy: 0.9786\n"
     ]
    },
    {
     "name": "stderr",
     "output_type": "stream",
     "text": [
      "c:\\Users\\NA\\.conda\\envs\\eeg_study\\Lib\\site-packages\\xgboost\\training.py:183: UserWarning: [00:17:42] WARNING: C:\\actions-runner\\_work\\xgboost\\xgboost\\src\\learner.cc:738: \n",
      "Parameters: { \"use_label_encoder\" } are not used.\n",
      "\n",
      "  bst.update(dtrain, iteration=i, fobj=obj)\n"
     ]
    }
   ],
   "source": [
    "X = score_roberta.iloc[:,:-1]\n",
    "y = sentence_arr['roberta']\n",
    "\n",
    "X_train, X_temp, y_train, y_temp = train_test_split(X, y, test_size=0.30, random_state=42, stratify=y)\n",
    "X_val, X_test, y_val, y_test = train_test_split(X_temp, y_temp, test_size=0.50, random_state=42, stratify=y_temp)\n",
    "print(\"Train size:\", X_train.shape, \"| Val size:\", X_val.shape, \"| Test size:\", X_test.shape)\n",
    "print(y.value_counts())\n",
    "\n",
    "models = {\n",
    "    \"Logistic Regression\": LogisticRegression(max_iter=1000, C=1.0),\n",
    "    \"SVM (linear)\": SVC(kernel='rbf', C=1.0, probability=True),\n",
    "    \"XGBoost\": XGBClassifier(use_label_encoder=False, eval_metric='mlogloss', max_depth=4, learning_rate=0.1)\n",
    "}\n",
    "\n",
    "# === Train and evaluate each model ===\n",
    "for name, model in models.items():\n",
    "    print(f\"\\n=== Training: {name} ===\")\n",
    "    model.fit(X_train, y_train)\n",
    "\n",
    "    # Evaluate on validation set\n",
    "    y_val_pred = model.predict(X_val)\n",
    "    acc = accuracy_score(y_val, y_val_pred)\n",
    "    print(f\"Validation Accuracy: {acc:.4f}\")\n",
    "    #print(\"Classification Report:\")\n",
    "    #print(classification_report(y_val, y_val_pred))"
   ]
  },
  {
   "cell_type": "code",
   "execution_count": 405,
   "metadata": {},
   "outputs": [
    {
     "data": {
      "text/plain": [
       "(1245, 1)"
      ]
     },
     "execution_count": 405,
     "metadata": {},
     "output_type": "execute_result"
    }
   ],
   "source": [
    "np.expand_dims(score_vader.iloc[:,3],axis = 1).shape"
   ]
  },
  {
   "cell_type": "code",
   "execution_count": 406,
   "metadata": {},
   "outputs": [
    {
     "name": "stdout",
     "output_type": "stream",
     "text": [
      "Train size: (871, 1) | Val size: (187, 1) | Test size: (187, 1)\n",
      "vader\n",
      "0    527\n",
      "2    514\n",
      "1    204\n",
      "Name: count, dtype: int64\n",
      "\n",
      "=== Training: Logistic Regression ===\n",
      "Validation Accuracy: 0.9572\n",
      "\n",
      "=== Training: SVM (linear) ===\n",
      "Validation Accuracy: 0.9947\n",
      "\n",
      "=== Training: XGBoost ===\n",
      "Validation Accuracy: 1.0000\n"
     ]
    },
    {
     "name": "stderr",
     "output_type": "stream",
     "text": [
      "c:\\Users\\NA\\.conda\\envs\\eeg_study\\Lib\\site-packages\\xgboost\\training.py:183: UserWarning: [00:22:05] WARNING: C:\\actions-runner\\_work\\xgboost\\xgboost\\src\\learner.cc:738: \n",
      "Parameters: { \"use_label_encoder\" } are not used.\n",
      "\n",
      "  bst.update(dtrain, iteration=i, fobj=obj)\n"
     ]
    }
   ],
   "source": [
    "X = np.expand_dims(score_vader.iloc[:,3],axis = 1)\n",
    "y = sentence_arr['vader']\n",
    "\n",
    "X_train, X_temp, y_train, y_temp = train_test_split(X, y, test_size=0.30, random_state=42, stratify=y)\n",
    "X_val, X_test, y_val, y_test = train_test_split(X_temp, y_temp, test_size=0.50, random_state=42, stratify=y_temp)\n",
    "print(\"Train size:\", X_train.shape, \"| Val size:\", X_val.shape, \"| Test size:\", X_test.shape)\n",
    "print(y.value_counts())\n",
    "\n",
    "models = {\n",
    "    \"Logistic Regression\": LogisticRegression(max_iter=1000, C=1.0),\n",
    "    \"SVM (linear)\": SVC(kernel='rbf', C=1.0, probability=True),\n",
    "    \"XGBoost\": XGBClassifier(use_label_encoder=False, eval_metric='mlogloss', max_depth=4, learning_rate=0.1)\n",
    "}\n",
    "\n",
    "# === Train and evaluate each model ===\n",
    "for name, model in models.items():\n",
    "    print(f\"\\n=== Training: {name} ===\")\n",
    "    model.fit(X_train, y_train)\n",
    "\n",
    "    # Evaluate on validation set\n",
    "    y_val_pred = model.predict(X_val)\n",
    "    acc = accuracy_score(y_val, y_val_pred)\n",
    "    print(f\"Validation Accuracy: {acc:.4f}\")\n",
    "    #print(\"Classification Report:\")\n",
    "    #print(classification_report(y_val, y_val_pred))"
   ]
  },
  {
   "cell_type": "markdown",
   "metadata": {},
   "source": []
  }
 ],
 "metadata": {
  "kernelspec": {
   "display_name": "eeg_study",
   "language": "python",
   "name": "python3"
  },
  "language_info": {
   "codemirror_mode": {
    "name": "ipython",
    "version": 3
   },
   "file_extension": ".py",
   "mimetype": "text/x-python",
   "name": "python",
   "nbconvert_exporter": "python",
   "pygments_lexer": "ipython3",
   "version": "3.11.13"
  }
 },
 "nbformat": 4,
 "nbformat_minor": 2
}
